{
  "nbformat": 4,
  "nbformat_minor": 0,
  "metadata": {
    "accelerator": "GPU",
    "colab": {
      "name": "sentimental and numerical.ipynb",
      "provenance": [],
      "collapsed_sections": [],
      "mount_file_id": "1iFu1bIJF8xVpP9MnkbVV3dKl9IxcZ01G",
      "authorship_tag": "ABX9TyMgfUohJ31dceVOxdt9uLIp",
      "include_colab_link": true
    },
    "kernelspec": {
      "display_name": "Python 3",
      "name": "python3"
    }
  },
  "cells": [
    {
      "cell_type": "markdown",
      "metadata": {
        "id": "view-in-github",
        "colab_type": "text"
      },
      "source": [
        "<a href=\"https://colab.research.google.com/github/seerammouli/DataScience_MachineLearning/blob/main/sentimental_and_numerical.ipynb\" target=\"_parent\"><img src=\"https://colab.research.google.com/assets/colab-badge.svg\" alt=\"Open In Colab\"/></a>"
      ]
    },
    {
      "cell_type": "code",
      "metadata": {
        "id": "SfsugZ9qNH6Y"
      },
      "source": [
        "import numpy as np \n",
        "import pandas as pd \n",
        "import seaborn as sns\n",
        "import matplotlib.pyplot as plt\n",
        "from pandas.plotting import lag_plot\n",
        "from pandas import datetime\n",
        "from statsmodels.tsa.arima_model import ARIMA\n",
        "from sklearn.metrics import mean_squared_error, mean_absolute_error\n",
        "from statsmodels.tsa.seasonal import seasonal_decompose"
      ],
      "execution_count": null,
      "outputs": []
    },
    {
      "cell_type": "code",
      "metadata": {
        "id": "ahmSWtsSNWlA"
      },
      "source": [
        "import pandas_datareader as pdr"
      ],
      "execution_count": null,
      "outputs": []
    },
    {
      "cell_type": "code",
      "metadata": {
        "id": "EN9zXkyCNiqe"
      },
      "source": [
        "df= pdr.get_data_yahoo(\"TTM\")"
      ],
      "execution_count": null,
      "outputs": []
    },
    {
      "cell_type": "code",
      "metadata": {
        "id": "dBNKNGT_Ns6o"
      },
      "source": [
        "df.to_csv('TTM.csv')"
      ],
      "execution_count": null,
      "outputs": []
    },
    {
      "cell_type": "code",
      "metadata": {
        "id": "u2Zgl-XaNx6F",
        "outputId": "f043930a-e441-4c4e-8023-b10e794f665c",
        "colab": {
          "base_uri": "https://localhost:8080/",
          "height": 204
        }
      },
      "source": [
        "df=pd.read_csv(\"TTM.csv\")\n",
        "df.head()"
      ],
      "execution_count": null,
      "outputs": [
        {
          "output_type": "execute_result",
          "data": {
            "text/html": [
              "<div>\n",
              "<style scoped>\n",
              "    .dataframe tbody tr th:only-of-type {\n",
              "        vertical-align: middle;\n",
              "    }\n",
              "\n",
              "    .dataframe tbody tr th {\n",
              "        vertical-align: top;\n",
              "    }\n",
              "\n",
              "    .dataframe thead th {\n",
              "        text-align: right;\n",
              "    }\n",
              "</style>\n",
              "<table border=\"1\" class=\"dataframe\">\n",
              "  <thead>\n",
              "    <tr style=\"text-align: right;\">\n",
              "      <th></th>\n",
              "      <th>Date</th>\n",
              "      <th>High</th>\n",
              "      <th>Low</th>\n",
              "      <th>Open</th>\n",
              "      <th>Close</th>\n",
              "      <th>Volume</th>\n",
              "      <th>Adj Close</th>\n",
              "    </tr>\n",
              "  </thead>\n",
              "  <tbody>\n",
              "    <tr>\n",
              "      <th>0</th>\n",
              "      <td>2015-10-23</td>\n",
              "      <td>29.930000</td>\n",
              "      <td>29.280001</td>\n",
              "      <td>29.469999</td>\n",
              "      <td>29.700001</td>\n",
              "      <td>1825500.0</td>\n",
              "      <td>29.687599</td>\n",
              "    </tr>\n",
              "    <tr>\n",
              "      <th>1</th>\n",
              "      <td>2015-10-26</td>\n",
              "      <td>29.840000</td>\n",
              "      <td>29.340000</td>\n",
              "      <td>29.629999</td>\n",
              "      <td>29.480000</td>\n",
              "      <td>1104400.0</td>\n",
              "      <td>29.467690</td>\n",
              "    </tr>\n",
              "    <tr>\n",
              "      <th>2</th>\n",
              "      <td>2015-10-27</td>\n",
              "      <td>29.350000</td>\n",
              "      <td>28.959999</td>\n",
              "      <td>29.260000</td>\n",
              "      <td>29.139999</td>\n",
              "      <td>1403100.0</td>\n",
              "      <td>29.127831</td>\n",
              "    </tr>\n",
              "    <tr>\n",
              "      <th>3</th>\n",
              "      <td>2015-10-28</td>\n",
              "      <td>29.730000</td>\n",
              "      <td>29.190001</td>\n",
              "      <td>29.320000</td>\n",
              "      <td>29.620001</td>\n",
              "      <td>1590500.0</td>\n",
              "      <td>29.607632</td>\n",
              "    </tr>\n",
              "    <tr>\n",
              "      <th>4</th>\n",
              "      <td>2015-10-29</td>\n",
              "      <td>29.790001</td>\n",
              "      <td>29.430000</td>\n",
              "      <td>29.650000</td>\n",
              "      <td>29.580000</td>\n",
              "      <td>1533800.0</td>\n",
              "      <td>29.567648</td>\n",
              "    </tr>\n",
              "  </tbody>\n",
              "</table>\n",
              "</div>"
            ],
            "text/plain": [
              "         Date       High        Low       Open      Close     Volume  Adj Close\n",
              "0  2015-10-23  29.930000  29.280001  29.469999  29.700001  1825500.0  29.687599\n",
              "1  2015-10-26  29.840000  29.340000  29.629999  29.480000  1104400.0  29.467690\n",
              "2  2015-10-27  29.350000  28.959999  29.260000  29.139999  1403100.0  29.127831\n",
              "3  2015-10-28  29.730000  29.190001  29.320000  29.620001  1590500.0  29.607632\n",
              "4  2015-10-29  29.790001  29.430000  29.650000  29.580000  1533800.0  29.567648"
            ]
          },
          "metadata": {
            "tags": []
          },
          "execution_count": 5
        }
      ]
    },
    {
      "cell_type": "code",
      "metadata": {
        "id": "Lt3eIVGAN9jF",
        "outputId": "516f95a5-a217-4331-c9a6-0800fa3de65f",
        "colab": {
          "base_uri": "https://localhost:8080/",
          "height": 34
        }
      },
      "source": [
        "df.shape"
      ],
      "execution_count": null,
      "outputs": [
        {
          "output_type": "execute_result",
          "data": {
            "text/plain": [
              "(1257, 7)"
            ]
          },
          "metadata": {
            "tags": []
          },
          "execution_count": 10
        }
      ]
    },
    {
      "cell_type": "code",
      "metadata": {
        "id": "urUkxx2bOD1z",
        "outputId": "75485686-d4aa-4ce7-daa0-3e4094472976",
        "colab": {
          "base_uri": "https://localhost:8080/",
          "height": 255
        }
      },
      "source": [
        "df.describe"
      ],
      "execution_count": null,
      "outputs": [
        {
          "output_type": "execute_result",
          "data": {
            "text/plain": [
              "<bound method NDFrame.describe of             Date       High        Low  ...      Close     Volume  Adj Close\n",
              "0     2015-10-23  29.930000  29.280001  ...  29.700001  1825500.0  29.687599\n",
              "1     2015-10-26  29.840000  29.340000  ...  29.480000  1104400.0  29.467690\n",
              "2     2015-10-27  29.350000  28.959999  ...  29.139999  1403100.0  29.127831\n",
              "3     2015-10-28  29.730000  29.190001  ...  29.620001  1590500.0  29.607632\n",
              "4     2015-10-29  29.790001  29.430000  ...  29.580000  1533800.0  29.567648\n",
              "...          ...        ...        ...  ...        ...        ...        ...\n",
              "1252  2020-10-14   9.070000   8.920000  ...   8.920000  1036100.0   8.920000\n",
              "1253  2020-10-15   8.820000   8.570000  ...   8.810000  1779600.0   8.810000\n",
              "1254  2020-10-16   8.890000   8.770000  ...   8.800000   814700.0   8.800000\n",
              "1255  2020-10-19   8.870000   8.610000  ...   8.610000  1698400.0   8.610000\n",
              "1256  2020-10-20   9.040000   8.810000  ...   8.920000  1090600.0   8.920000\n",
              "\n",
              "[1257 rows x 7 columns]>"
            ]
          },
          "metadata": {
            "tags": []
          },
          "execution_count": 11
        }
      ]
    },
    {
      "cell_type": "code",
      "metadata": {
        "id": "XSMSoB0wD-2n",
        "outputId": "31e7cb3e-98a7-44ae-a38c-70ae7df035ee",
        "colab": {
          "base_uri": "https://localhost:8080/",
          "height": 255
        }
      },
      "source": [
        "df.info()"
      ],
      "execution_count": null,
      "outputs": [
        {
          "output_type": "stream",
          "text": [
            "<class 'pandas.core.frame.DataFrame'>\n",
            "RangeIndex: 1257 entries, 0 to 1256\n",
            "Data columns (total 7 columns):\n",
            " #   Column     Non-Null Count  Dtype  \n",
            "---  ------     --------------  -----  \n",
            " 0   Date       1257 non-null   object \n",
            " 1   High       1257 non-null   float64\n",
            " 2   Low        1257 non-null   float64\n",
            " 3   Open       1257 non-null   float64\n",
            " 4   Close      1257 non-null   float64\n",
            " 5   Volume     1257 non-null   float64\n",
            " 6   Adj Close  1257 non-null   float64\n",
            "dtypes: float64(6), object(1)\n",
            "memory usage: 68.9+ KB\n"
          ],
          "name": "stdout"
        }
      ]
    },
    {
      "cell_type": "code",
      "metadata": {
        "id": "-hw6W8z_EYUr",
        "outputId": "dfeec7cb-2b4c-480a-a008-ea47f99d4edb",
        "colab": {
          "base_uri": "https://localhost:8080/",
          "height": 530
        }
      },
      "source": [
        "plt.figure(figsize=(12,8))\n",
        "plt.plot(df['Close'])\n",
        "plt.title('(TTM closing price)')\n",
        "plt.xlabel('Days')\n",
        "plt.ylabel('Close')"
      ],
      "execution_count": null,
      "outputs": [
        {
          "output_type": "execute_result",
          "data": {
            "text/plain": [
              "Text(0, 0.5, 'Close')"
            ]
          },
          "metadata": {
            "tags": []
          },
          "execution_count": 13
        },
        {
          "output_type": "display_data",
          "data": {
            "image/png": "[encoded data removed]",
            "text/plain": [
              "<Figure size 864x576 with 1 Axes>"
            ]
          },
          "metadata": {
            "tags": []
          }
        }
      ]
    },
    {
      "cell_type": "code",
      "metadata": {
        "id": "JvL4NMkwFh0s",
        "outputId": "9f9b7359-bed9-4b3a-91e5-4204b1bce881",
        "colab": {
          "base_uri": "https://localhost:8080/",
          "height": 513
        }
      },
      "source": [
        "plt.figure(figsize=(10,8))\n",
        "lag_plot(df['Open'], lag=3)\n",
        "plt.title('Autocorrelation plot')\n",
        "plt.show()"
      ],
      "execution_count": null,
      "outputs": [
        {
          "output_type": "display_data",
          "data": {
            "image/png": "[encoded data removed]",
            "text/plain": [
              "<Figure size 720x576 with 1 Axes>"
            ]
          },
          "metadata": {
            "tags": []
          }
        }
      ]
    },
    {
      "cell_type": "code",
      "metadata": {
        "id": "hCxub7iMEo7E",
        "outputId": "9f9592c6-ea1e-420d-fa39-5a3cfe4319fa",
        "colab": {
          "base_uri": "https://localhost:8080/",
          "height": 666
        }
      },
      "source": [
        "sea_dec = seasonal_decompose(df['Open'], model='multiplicative', freq = 30)\n",
        "fig = plt.figure()  \n",
        "fig = sea_dec.plot() \n",
        "fig.set_size_inches(20, 10)"
      ],
      "execution_count": null,
      "outputs": [
        {
          "output_type": "display_data",
          "data": {
            "text/plain": [
              "<Figure size 432x288 with 0 Axes>"
            ]
          },
          "metadata": {
            "tags": []
          }
        },
        {
          "output_type": "display_data",
          "data": {
            "image/png": "[encoded data removed]",
            "text/plain": [
              "<Figure size 1440x720 with 4 Axes>"
            ]
          },
          "metadata": {
            "tags": []
          }
        }
      ]
    },
    {
      "cell_type": "code",
      "metadata": {
        "id": "choffxqhHhZq"
      },
      "source": [
        "train = df[df['Date'] < '2019-10-10']\n",
        "test = df[df['Date'] >'2019-10-10']"
      ],
      "execution_count": null,
      "outputs": []
    },
    {
      "cell_type": "code",
      "metadata": {
        "id": "HldFGkLIH4JY",
        "outputId": "40a91b6a-9003-4f97-aeb2-b9bf2d034362",
        "colab": {
          "base_uri": "https://localhost:8080/",
          "height": 34
        }
      },
      "source": [
        "train.shape,test.shape"
      ],
      "execution_count": null,
      "outputs": [
        {
          "output_type": "execute_result",
          "data": {
            "text/plain": [
              "((997, 7), (259, 7))"
            ]
          },
          "metadata": {
            "tags": []
          },
          "execution_count": 7
        }
      ]
    },
    {
      "cell_type": "code",
      "metadata": {
        "id": "gkWxB-AtEqya",
        "outputId": "99be23e8-e7fa-4549-ab4c-5a61111fc322",
        "colab": {
          "base_uri": "https://localhost:8080/",
          "height": 255
        }
      },
      "source": [
        "train.head"
      ],
      "execution_count": null,
      "outputs": [
        {
          "output_type": "execute_result",
          "data": {
            "text/plain": [
              "<bound method NDFrame.head of            Date       High        Low  ...      Close     Volume  Adj Close\n",
              "0    2015-10-23  29.930000  29.280001  ...  29.700001  1825500.0  29.687599\n",
              "1    2015-10-26  29.840000  29.340000  ...  29.480000  1104400.0  29.467690\n",
              "2    2015-10-27  29.350000  28.959999  ...  29.139999  1403100.0  29.127831\n",
              "3    2015-10-28  29.730000  29.190001  ...  29.620001  1590500.0  29.607632\n",
              "4    2015-10-29  29.790001  29.430000  ...  29.580000  1533800.0  29.567648\n",
              "..          ...        ...        ...  ...        ...        ...        ...\n",
              "992  2019-10-03   8.710000   8.440000  ...   8.610000  2110900.0   8.610000\n",
              "993  2019-10-04   8.480000   8.340000  ...   8.480000   902600.0   8.480000\n",
              "994  2019-10-07   8.390000   8.210000  ...   8.290000  1365400.0   8.290000\n",
              "995  2019-10-08   8.260000   8.100000  ...   8.120000  1232200.0   8.120000\n",
              "996  2019-10-09   8.570000   8.380000  ...   8.400000  1886300.0   8.400000\n",
              "\n",
              "[997 rows x 7 columns]>"
            ]
          },
          "metadata": {
            "tags": []
          },
          "execution_count": 15
        }
      ]
    },
    {
      "cell_type": "code",
      "metadata": {
        "id": "BN3D6GwBFEDk"
      },
      "source": [
        "test_data = test['Close']\n",
        "train_data = train['Close']"
      ],
      "execution_count": null,
      "outputs": []
    },
    {
      "cell_type": "code",
      "metadata": {
        "id": "yLiyO133FPt2",
        "outputId": "f9bb290a-f658-4d17-af3b-632b36eae8dc",
        "colab": {
          "base_uri": "https://localhost:8080/",
          "height": 34
        }
      },
      "source": [
        "test_data.shape, train_data.shape"
      ],
      "execution_count": null,
      "outputs": [
        {
          "output_type": "execute_result",
          "data": {
            "text/plain": [
              "((259,), (997,))"
            ]
          },
          "metadata": {
            "tags": []
          },
          "execution_count": 15
        }
      ]
    },
    {
      "cell_type": "code",
      "metadata": {
        "id": "lUjQx2CxFoUa",
        "outputId": "7a9bb845-84b8-4cf5-fe0e-1b813f9514cf",
        "colab": {
          "base_uri": "https://localhost:8080/",
          "height": 458
        }
      },
      "source": [
        "plt.figure(figsize=(12,7))\n",
        "plt.title('Open Price')\n",
        "plt.xlabel('Dates')\n",
        "plt.ylabel('Prices')\n",
        "plt.plot(train_data)\n",
        "plt.plot(test_data)\n",
        "plt.xticks(np.arange(0,1799, 300), df['Date'][0:1184:300])\n",
        "plt.show()"
      ],
      "execution_count": null,
      "outputs": [
        {
          "output_type": "display_data",
          "data": {
            "image/png": "[encoded data removed]",
            "text/plain": [
              "<Figure size 864x504 with 1 Axes>"
            ]
          },
          "metadata": {
            "tags": []
          }
        }
      ]
    },
    {
      "cell_type": "code",
      "metadata": {
        "id": "90EP-jNQKCH3",
        "outputId": "7e78eca5-3577-4e5b-93da-6863336c4366",
        "colab": {
          "base_uri": "https://localhost:8080/",
          "height": 700
        }
      },
      "source": [
        "pip install pmdarima"
      ],
      "execution_count": null,
      "outputs": [
        {
          "output_type": "stream",
          "text": [
            "Collecting pmdarima\n",
            "\u001b[?25l  Downloading https://files.pythonhosted.org/packages/be/62/725b3b6ae0e56c77534de5a8139322e7b863ca53fd5bd6bd3b7de87d0c20/pmdarima-1.7.1-cp36-cp36m-manylinux1_x86_64.whl (1.5MB)\n",
            "\u001b[K     |████████████████████████████████| 1.5MB 2.7MB/s \n",
            "\u001b[?25hRequirement already satisfied: urllib3 in /usr/local/lib/python3.6/dist-packages (from pmdarima) (1.24.3)\n",
            "Requirement already satisfied: scipy>=1.3.2 in /usr/local/lib/python3.6/dist-packages (from pmdarima) (1.4.1)\n",
            "Requirement already satisfied: pandas>=0.19 in /usr/local/lib/python3.6/dist-packages (from pmdarima) (1.1.2)\n",
            "Requirement already satisfied: numpy>=1.17.3 in /usr/local/lib/python3.6/dist-packages (from pmdarima) (1.18.5)\n",
            "Collecting Cython<0.29.18,>=0.29\n",
            "\u001b[?25l  Downloading https://files.pythonhosted.org/packages/e7/d7/510ddef0248f3e1e91f9cc7e31c0f35f8954d0af92c5c3fd4c853e859ebe/Cython-0.29.17-cp36-cp36m-manylinux1_x86_64.whl (2.1MB)\n",
            "\u001b[K     |████████████████████████████████| 2.1MB 53.1MB/s \n",
            "\u001b[?25hCollecting setuptools<50.0.0\n",
            "\u001b[?25l  Downloading https://files.pythonhosted.org/packages/c3/a9/5dc32465951cf4812e9e93b4ad2d314893c2fa6d5f66ce5c057af6e76d85/setuptools-49.6.0-py3-none-any.whl (803kB)\n",
            "\u001b[K     |████████████████████████████████| 808kB 50.6MB/s \n",
            "\u001b[?25hCollecting statsmodels<0.12,>=0.11\n",
            "\u001b[?25l  Downloading https://files.pythonhosted.org/packages/cb/83/540fd83238a18abe6c2d280fa8e489ac5fcefa1f370f0ca1acd16ae1b860/statsmodels-0.11.1-cp36-cp36m-manylinux1_x86_64.whl (8.7MB)\n",
            "\u001b[K     |████████████████████████████████| 8.7MB 39.2MB/s \n",
            "\u001b[?25hRequirement already satisfied: scikit-learn>=0.22 in /usr/local/lib/python3.6/dist-packages (from pmdarima) (0.22.2.post1)\n",
            "Requirement already satisfied: joblib>=0.11 in /usr/local/lib/python3.6/dist-packages (from pmdarima) (0.16.0)\n",
            "Requirement already satisfied: python-dateutil>=2.7.3 in /usr/local/lib/python3.6/dist-packages (from pandas>=0.19->pmdarima) (2.8.1)\n",
            "Requirement already satisfied: pytz>=2017.2 in /usr/local/lib/python3.6/dist-packages (from pandas>=0.19->pmdarima) (2018.9)\n",
            "Requirement already satisfied: patsy>=0.5 in /usr/local/lib/python3.6/dist-packages (from statsmodels<0.12,>=0.11->pmdarima) (0.5.1)\n",
            "Requirement already satisfied: six>=1.5 in /usr/local/lib/python3.6/dist-packages (from python-dateutil>=2.7.3->pandas>=0.19->pmdarima) (1.15.0)\n",
            "\u001b[31mERROR: datascience 0.10.6 has requirement folium==0.2.1, but you'll have folium 0.8.3 which is incompatible.\u001b[0m\n",
            "Installing collected packages: Cython, setuptools, statsmodels, pmdarima\n",
            "  Found existing installation: Cython 0.29.21\n",
            "    Uninstalling Cython-0.29.21:\n",
            "      Successfully uninstalled Cython-0.29.21\n",
            "  Found existing installation: setuptools 50.3.0\n",
            "    Uninstalling setuptools-50.3.0:\n",
            "      Successfully uninstalled setuptools-50.3.0\n",
            "  Found existing installation: statsmodels 0.10.2\n",
            "    Uninstalling statsmodels-0.10.2:\n",
            "      Successfully uninstalled statsmodels-0.10.2\n",
            "Successfully installed Cython-0.29.17 pmdarima-1.7.1 setuptools-49.6.0 statsmodels-0.11.1\n"
          ],
          "name": "stdout"
        },
        {
          "output_type": "display_data",
          "data": {
            "application/vnd.colab-display-data+json": {
              "pip_warning": {
                "packages": [
                  "pkg_resources",
                  "statsmodels"
                ]
              }
            }
          },
          "metadata": {
            "tags": []
          }
        }
      ]
    },
    {
      "cell_type": "code",
      "metadata": {
        "id": "fAr_weqZKbM1"
      },
      "source": [
        "from pmdarima import auto_arima"
      ],
      "execution_count": null,
      "outputs": []
    },
    {
      "cell_type": "code",
      "metadata": {
        "id": "SJnO1vPkKz_7",
        "outputId": "c8787203-b4c9-4b82-f697-1bf5526aabcf",
        "colab": {
          "base_uri": "https://localhost:8080/",
          "height": 680
        }
      },
      "source": [
        "autoARIMA_model = auto_arima(train_data, start_p=0, start_q=0, test='adf', max_p=3, max_q=3, m=1 , seasonal=False, \n",
        "                             start_P=0, D=0, trace=True, error_action='ignore', suppress_warnings=True, stepwise=True)\n",
        "print(autoARIMA_model.summary())"
      ],
      "execution_count": null,
      "outputs": [
        {
          "output_type": "stream",
          "text": [
            "Performing stepwise search to minimize aic\n",
            " ARIMA(0,1,0)(0,0,0)[0] intercept   : AIC=1680.033, Time=0.14 sec\n",
            " ARIMA(1,1,0)(0,0,0)[0] intercept   : AIC=1672.279, Time=0.07 sec\n",
            " ARIMA(0,1,1)(0,0,0)[0] intercept   : AIC=1672.890, Time=0.17 sec\n",
            " ARIMA(0,1,0)(0,0,0)[0]             : AIC=1679.477, Time=0.04 sec\n",
            " ARIMA(2,1,0)(0,0,0)[0] intercept   : AIC=1673.596, Time=0.15 sec\n",
            " ARIMA(1,1,1)(0,0,0)[0] intercept   : AIC=1673.911, Time=0.45 sec\n",
            " ARIMA(2,1,1)(0,0,0)[0] intercept   : AIC=1675.312, Time=1.12 sec\n",
            " ARIMA(1,1,0)(0,0,0)[0]             : AIC=1671.462, Time=0.04 sec\n",
            " ARIMA(2,1,0)(0,0,0)[0]             : AIC=1672.719, Time=0.06 sec\n",
            " ARIMA(1,1,1)(0,0,0)[0]             : AIC=1673.055, Time=0.13 sec\n",
            " ARIMA(0,1,1)(0,0,0)[0]             : AIC=1672.110, Time=0.06 sec\n",
            " ARIMA(2,1,1)(0,0,0)[0]             : AIC=1674.442, Time=0.20 sec\n",
            "\n",
            "Best model:  ARIMA(1,1,0)(0,0,0)[0]          \n",
            "Total fit time: 2.642 seconds\n",
            "                               SARIMAX Results                                \n",
            "==============================================================================\n",
            "Dep. Variable:                      y   No. Observations:                  997\n",
            "Model:               SARIMAX(1, 1, 0)   Log Likelihood                -833.731\n",
            "Date:                Wed, 21 Oct 2020   AIC                           1671.462\n",
            "Time:                        07:59:13   BIC                           1681.269\n",
            "Sample:                             0   HQIC                          1675.190\n",
            "                                - 997                                         \n",
            "Covariance Type:                  opg                                         \n",
            "==============================================================================\n",
            "                 coef    std err          z      P>|z|      [0.025      0.975]\n",
            "------------------------------------------------------------------------------\n",
            "ar.L1          0.1001      0.025      4.024      0.000       0.051       0.149\n",
            "sigma2         0.3123      0.007     42.942      0.000       0.298       0.327\n",
            "===================================================================================\n",
            "Ljung-Box (Q):                       38.93   Jarque-Bera (JB):              1371.46\n",
            "Prob(Q):                              0.52   Prob(JB):                         0.00\n",
            "Heteroskedasticity (H):               0.25   Skew:                            -0.41\n",
            "Prob(H) (two-sided):                  0.00   Kurtosis:                         8.69\n",
            "===================================================================================\n",
            "\n",
            "Warnings:\n",
            "[1] Covariance matrix calculated using the outer product of gradients (complex-step).\n"
          ],
          "name": "stdout"
        }
      ]
    },
    {
      "cell_type": "code",
      "metadata": {
        "id": "YPEsxks2NALW",
        "outputId": "e439361e-95ce-4035-8d91-5541ad0eb425",
        "colab": {
          "base_uri": "https://localhost:8080/",
          "height": 621
        }
      },
      "source": [
        "autoARIMA_model.plot_diagnostics(figsize=(20,10))\n",
        "plt.show()"
      ],
      "execution_count": null,
      "outputs": [
        {
          "output_type": "display_data",
          "data": {
            "image/png": "[encoded data removed]",
            "text/plain": [
              "<Figure size 1440x720 with 4 Axes>"
            ]
          },
          "metadata": {
            "tags": []
          }
        }
      ]
    },
    {
      "cell_type": "code",
      "metadata": {
        "id": "Yb0KBgReQXdx",
        "outputId": "ea15f823-8a7e-4437-e06f-f836702b2320",
        "colab": {
          "base_uri": "https://localhost:8080/",
          "height": 85
        }
      },
      "source": [
        "autoARIMA_model.fit(train_data)"
      ],
      "execution_count": null,
      "outputs": [
        {
          "output_type": "execute_result",
          "data": {
            "text/plain": [
              "ARIMA(maxiter=50, method='lbfgs', order=(1, 1, 0), out_of_sample_size=0,\n",
              "      scoring='mse', scoring_args={}, seasonal_order=(0, 0, 0, 0),\n",
              "      start_params=None, suppress_warnings=True, trend=None,\n",
              "      with_intercept=False)"
            ]
          },
          "metadata": {
            "tags": []
          },
          "execution_count": 15
        }
      ]
    },
    {
      "cell_type": "markdown",
      "metadata": {
        "id": "0ynfnvzxQdWr"
      },
      "source": [
        "Fitting my model\n"
      ]
    },
    {
      "cell_type": "code",
      "metadata": {
        "id": "IH_Y11tURtT1",
        "outputId": "d0c8fd56-0c00-44a2-e20f-97a0cabd783b",
        "colab": {
          "base_uri": "https://localhost:8080/",
          "height": 51
        }
      },
      "source": [
        "forecast = autoARIMA_model.predict(n_periods=259)"
      ],
      "execution_count": null,
      "outputs": [
        {
          "output_type": "stream",
          "text": [
            "/usr/local/lib/python3.6/dist-packages/statsmodels/tsa/statespace/kalman_filter.py:2095: RuntimeWarning: invalid value encountered in multiply\n",
            "  endog = np.empty((nforecast, self.k_endog)) * np.nan\n"
          ],
          "name": "stderr"
        }
      ]
    },
    {
      "cell_type": "code",
      "metadata": {
        "id": "o1THNrO4R4vw"
      },
      "source": [
        "forecast_data=pd.DataFrame(forecast,index=test_data.index,columns=['Prediction'])"
      ],
      "execution_count": null,
      "outputs": []
    },
    {
      "cell_type": "markdown",
      "metadata": {
        "id": "J-YXGrYvSzL-"
      },
      "source": [
        "To check accuracy"
      ]
    },
    {
      "cell_type": "code",
      "metadata": {
        "id": "9PlDn5F8SxvM",
        "outputId": "404460e9-7948-4de8-8be1-36f4cae66f92",
        "colab": {
          "base_uri": "https://localhost:8080/",
          "height": 68
        }
      },
      "source": [
        "mse = mean_squared_error(test_data, forecast)\n",
        "rmse = np.sqrt(mse)\n",
        "mae = mean_absolute_error(test_data, forecast)\n",
        "\n",
        "print('Mean Squared Error      : ',mse)\n",
        "print('Root Mean_Squared_Error : ',rmse)\n",
        "print('Mean Absolute Error     : ',mae)"
      ],
      "execution_count": null,
      "outputs": [
        {
          "output_type": "stream",
          "text": [
            "Mean Squared Error      :  7.672231849432403\n",
            "Root Mean_Squared_Error :  2.769879392578746\n",
            "Mean Absolute Error     :  2.3863782099543758\n"
          ],
          "name": "stdout"
        }
      ]
    },
    {
      "cell_type": "markdown",
      "metadata": {
        "id": "aS0h7gfOQgls"
      },
      "source": [
        ""
      ]
    },
    {
      "cell_type": "code",
      "metadata": {
        "id": "f1IbDk1BTGza",
        "outputId": "6a40048b-d57c-45c2-eeca-3fd20ef90e15",
        "colab": {
          "base_uri": "https://localhost:8080/",
          "height": 592
        }
      },
      "source": [
        "plt.figure(figsize=(15,10))\n",
        "\n",
        "plt.plot(train_data)\n",
        "plt.plot(test_data)\n",
        "plt.plot(forecast_data['Prediction'])\n",
        "plt.show()\n"
      ],
      "execution_count": null,
      "outputs": [
        {
          "output_type": "display_data",
          "data": {
            "image/png": "[encoded data removed]",
            "text/plain": [
              "<Figure size 1080x720 with 1 Axes>"
            ]
          },
          "metadata": {
            "tags": []
          }
        }
      ]
    },
    {
      "cell_type": "markdown",
      "metadata": {
        "id": "XFQ2M8hMTTfD"
      },
      "source": [
        "**Sentimental Analysis on News data**"
      ]
    },
    {
      "cell_type": "code",
      "metadata": {
        "id": "PcfBX9mBTdii"
      },
      "source": [
        "import pandas as pd\n",
        "import numpy as np\n",
        "import matplotlib.pyplot as plt"
      ],
      "execution_count": null,
      "outputs": []
    },
    {
      "cell_type": "code",
      "metadata": {
        "id": "M6G1u3meTurq"
      },
      "source": [
        "from textblob import TextBlob"
      ],
      "execution_count": null,
      "outputs": []
    },
    {
      "cell_type": "code",
      "metadata": {
        "id": "by6P2OppT09X",
        "outputId": "6ceb0656-b19a-4944-ab0a-5f1e6521f296",
        "colab": {
          "base_uri": "https://localhost:8080/",
          "height": 34
        }
      },
      "source": [
        "from google.colab import drive\n",
        "drive.mount('/content/drive')"
      ],
      "execution_count": null,
      "outputs": [
        {
          "output_type": "stream",
          "text": [
            "Drive already mounted at /content/drive; to attempt to forcibly remount, call drive.mount(\"/content/drive\", force_remount=True).\n"
          ],
          "name": "stdout"
        }
      ]
    },
    {
      "cell_type": "code",
      "metadata": {
        "id": "yDEQw_5zgFaM"
      },
      "source": [
        "import pandas as pd\n",
        "d=pd.read_csv('/content/drive/My Drive/india-news-headlines.csv')"
      ],
      "execution_count": null,
      "outputs": []
    },
    {
      "cell_type": "code",
      "metadata": {
        "id": "lGcQAn7Afd6F",
        "outputId": "24ec4fd0-761b-41f5-fdf1-3a89d3eff63a",
        "colab": {
          "base_uri": "https://localhost:8080/",
          "height": 419
        }
      },
      "source": [
        "d"
      ],
      "execution_count": null,
      "outputs": [
        {
          "output_type": "execute_result",
          "data": {
            "text/html": [
              "<div>\n",
              "<style scoped>\n",
              "    .dataframe tbody tr th:only-of-type {\n",
              "        vertical-align: middle;\n",
              "    }\n",
              "\n",
              "    .dataframe tbody tr th {\n",
              "        vertical-align: top;\n",
              "    }\n",
              "\n",
              "    .dataframe thead th {\n",
              "        text-align: right;\n",
              "    }\n",
              "</style>\n",
              "<table border=\"1\" class=\"dataframe\">\n",
              "  <thead>\n",
              "    <tr style=\"text-align: right;\">\n",
              "      <th></th>\n",
              "      <th>publish_date</th>\n",
              "      <th>headline_category</th>\n",
              "      <th>headline_text</th>\n",
              "    </tr>\n",
              "  </thead>\n",
              "  <tbody>\n",
              "    <tr>\n",
              "      <th>0</th>\n",
              "      <td>20010101</td>\n",
              "      <td>sports.wwe</td>\n",
              "      <td>win over cena satisfying but defeating underta...</td>\n",
              "    </tr>\n",
              "    <tr>\n",
              "      <th>1</th>\n",
              "      <td>20010102</td>\n",
              "      <td>unknown</td>\n",
              "      <td>Status quo will not be disturbed at Ayodhya; s...</td>\n",
              "    </tr>\n",
              "    <tr>\n",
              "      <th>2</th>\n",
              "      <td>20010102</td>\n",
              "      <td>unknown</td>\n",
              "      <td>Fissures in Hurriyat over Pak visit</td>\n",
              "    </tr>\n",
              "    <tr>\n",
              "      <th>3</th>\n",
              "      <td>20010102</td>\n",
              "      <td>unknown</td>\n",
              "      <td>America's unwanted heading for India?</td>\n",
              "    </tr>\n",
              "    <tr>\n",
              "      <th>4</th>\n",
              "      <td>20010102</td>\n",
              "      <td>unknown</td>\n",
              "      <td>For bigwigs; it is destination Goa</td>\n",
              "    </tr>\n",
              "    <tr>\n",
              "      <th>...</th>\n",
              "      <td>...</td>\n",
              "      <td>...</td>\n",
              "      <td>...</td>\n",
              "    </tr>\n",
              "    <tr>\n",
              "      <th>3297167</th>\n",
              "      <td>20200630</td>\n",
              "      <td>gadgets-news</td>\n",
              "      <td>why tiktok removed 1 65 crore videos in india</td>\n",
              "    </tr>\n",
              "    <tr>\n",
              "      <th>3297168</th>\n",
              "      <td>20200630</td>\n",
              "      <td>entertainment.hindi.bollywood</td>\n",
              "      <td>apurva asrani calls alia bhatts mother soni ra...</td>\n",
              "    </tr>\n",
              "    <tr>\n",
              "      <th>3297169</th>\n",
              "      <td>20200630</td>\n",
              "      <td>entertainment.hindi.bollywood</td>\n",
              "      <td>kangana ranaut gets a doll version of herself ...</td>\n",
              "    </tr>\n",
              "    <tr>\n",
              "      <th>3297170</th>\n",
              "      <td>20200630</td>\n",
              "      <td>entertainment.hindi.bollywood</td>\n",
              "      <td>meezaan jaffrey reminisces his childhood days ...</td>\n",
              "    </tr>\n",
              "    <tr>\n",
              "      <th>3297171</th>\n",
              "      <td>20200630</td>\n",
              "      <td>entertainment.telugu.movies.news</td>\n",
              "      <td>prabhas20 titled as radhe shyam prabhas and po...</td>\n",
              "    </tr>\n",
              "  </tbody>\n",
              "</table>\n",
              "<p>3297172 rows × 3 columns</p>\n",
              "</div>"
            ],
            "text/plain": [
              "         publish_date  ...                                      headline_text\n",
              "0            20010101  ...  win over cena satisfying but defeating underta...\n",
              "1            20010102  ...  Status quo will not be disturbed at Ayodhya; s...\n",
              "2            20010102  ...                Fissures in Hurriyat over Pak visit\n",
              "3            20010102  ...              America's unwanted heading for India?\n",
              "4            20010102  ...                 For bigwigs; it is destination Goa\n",
              "...               ...  ...                                                ...\n",
              "3297167      20200630  ...      why tiktok removed 1 65 crore videos in india\n",
              "3297168      20200630  ...  apurva asrani calls alia bhatts mother soni ra...\n",
              "3297169      20200630  ...  kangana ranaut gets a doll version of herself ...\n",
              "3297170      20200630  ...  meezaan jaffrey reminisces his childhood days ...\n",
              "3297171      20200630  ...  prabhas20 titled as radhe shyam prabhas and po...\n",
              "\n",
              "[3297172 rows x 3 columns]"
            ]
          },
          "metadata": {
            "tags": []
          },
          "execution_count": 48
        }
      ]
    },
    {
      "cell_type": "code",
      "metadata": {
        "id": "b76yNkAYe7E7",
        "outputId": "987e8aa0-0028-4700-a512-0f78f031bfec",
        "colab": {
          "base_uri": "https://localhost:8080/",
          "height": 221
        }
      },
      "source": [
        "d['headline_category'].value_counts()"
      ],
      "execution_count": null,
      "outputs": [
        {
          "output_type": "execute_result",
          "data": {
            "text/plain": [
              "india                      285619\n",
              "unknown                    207732\n",
              "city.mumbai                132649\n",
              "city.delhi                 124658\n",
              "business.india-business    115246\n",
              "                            ...  \n",
              "delhi-ncr                       7\n",
              "actresses                       7\n",
              "did-you-know                    6\n",
              "sports.headline6                3\n",
              "party-manifestos                2\n",
              "Name: headline_category, Length: 1016, dtype: int64"
            ]
          },
          "metadata": {
            "tags": []
          },
          "execution_count": 49
        }
      ]
    },
    {
      "cell_type": "code",
      "metadata": {
        "id": "H4_0zNczSTry"
      },
      "source": [
        "city_data = d[d['headline_category'].str.contains('^city\\.[a-z]+$', regex=True)]"
      ],
      "execution_count": null,
      "outputs": []
    },
    {
      "cell_type": "code",
      "metadata": {
        "id": "g2TO19VBYHym",
        "outputId": "f41e32fc-dd5c-4707-8887-978dee5ce6c8",
        "colab": {
          "base_uri": "https://localhost:8080/",
          "height": 419
        }
      },
      "source": [
        "city_data"
      ],
      "execution_count": null,
      "outputs": [
        {
          "output_type": "execute_result",
          "data": {
            "text/html": [
              "<div>\n",
              "<style scoped>\n",
              "    .dataframe tbody tr th:only-of-type {\n",
              "        vertical-align: middle;\n",
              "    }\n",
              "\n",
              "    .dataframe tbody tr th {\n",
              "        vertical-align: top;\n",
              "    }\n",
              "\n",
              "    .dataframe thead th {\n",
              "        text-align: right;\n",
              "    }\n",
              "</style>\n",
              "<table border=\"1\" class=\"dataframe\">\n",
              "  <thead>\n",
              "    <tr style=\"text-align: right;\">\n",
              "      <th></th>\n",
              "      <th>publish_date</th>\n",
              "      <th>headline_category</th>\n",
              "      <th>headline_text</th>\n",
              "    </tr>\n",
              "  </thead>\n",
              "  <tbody>\n",
              "    <tr>\n",
              "      <th>274</th>\n",
              "      <td>20010104</td>\n",
              "      <td>city.bengaluru</td>\n",
              "      <td>Three in race for chief secy's post</td>\n",
              "    </tr>\n",
              "    <tr>\n",
              "      <th>275</th>\n",
              "      <td>20010104</td>\n",
              "      <td>city.patna</td>\n",
              "      <td>Druggists' stir leads to shortage of medicines</td>\n",
              "    </tr>\n",
              "    <tr>\n",
              "      <th>278</th>\n",
              "      <td>20010104</td>\n",
              "      <td>city.bengaluru</td>\n",
              "      <td>He's not so inscrutable</td>\n",
              "    </tr>\n",
              "    <tr>\n",
              "      <th>279</th>\n",
              "      <td>20010104</td>\n",
              "      <td>city.delhi</td>\n",
              "      <td>DPCC stages Nyay rally</td>\n",
              "    </tr>\n",
              "    <tr>\n",
              "      <th>643</th>\n",
              "      <td>20010110</td>\n",
              "      <td>city.patna</td>\n",
              "      <td>Fend for yourselves; Pande tells doctors</td>\n",
              "    </tr>\n",
              "    <tr>\n",
              "      <th>...</th>\n",
              "      <td>...</td>\n",
              "      <td>...</td>\n",
              "      <td>...</td>\n",
              "    </tr>\n",
              "    <tr>\n",
              "      <th>3297139</th>\n",
              "      <td>20200630</td>\n",
              "      <td>city.delhi</td>\n",
              "      <td>Remove illegal signage or face penalty: NDMC</td>\n",
              "    </tr>\n",
              "    <tr>\n",
              "      <th>3297158</th>\n",
              "      <td>20200630</td>\n",
              "      <td>city.bengaluru</td>\n",
              "      <td>what bengaluru can do to tackle covid surge</td>\n",
              "    </tr>\n",
              "    <tr>\n",
              "      <th>3297161</th>\n",
              "      <td>20200630</td>\n",
              "      <td>city.bengaluru</td>\n",
              "      <td>karnataka may adopt keralas triple lockdown plan</td>\n",
              "    </tr>\n",
              "    <tr>\n",
              "      <th>3297162</th>\n",
              "      <td>20200630</td>\n",
              "      <td>city.kanpur</td>\n",
              "      <td>vehicle of up stf team bringing gangster vikas...</td>\n",
              "    </tr>\n",
              "    <tr>\n",
              "      <th>3297166</th>\n",
              "      <td>20200630</td>\n",
              "      <td>city.lucknow</td>\n",
              "      <td>up govt imposes weekend restrictions from tonight</td>\n",
              "    </tr>\n",
              "  </tbody>\n",
              "</table>\n",
              "<p>1842288 rows × 3 columns</p>\n",
              "</div>"
            ],
            "text/plain": [
              "         publish_date  ...                                      headline_text\n",
              "274          20010104  ...                Three in race for chief secy's post\n",
              "275          20010104  ...     Druggists' stir leads to shortage of medicines\n",
              "278          20010104  ...                            He's not so inscrutable\n",
              "279          20010104  ...                             DPCC stages Nyay rally\n",
              "643          20010110  ...           Fend for yourselves; Pande tells doctors\n",
              "...               ...  ...                                                ...\n",
              "3297139      20200630  ...       Remove illegal signage or face penalty: NDMC\n",
              "3297158      20200630  ...        what bengaluru can do to tackle covid surge\n",
              "3297161      20200630  ...   karnataka may adopt keralas triple lockdown plan\n",
              "3297162      20200630  ...  vehicle of up stf team bringing gangster vikas...\n",
              "3297166      20200630  ...  up govt imposes weekend restrictions from tonight\n",
              "\n",
              "[1842288 rows x 3 columns]"
            ]
          },
          "metadata": {
            "tags": []
          },
          "execution_count": 51
        }
      ]
    },
    {
      "cell_type": "markdown",
      "metadata": {
        "id": "BItdG7jRYQIB"
      },
      "source": [
        "Creating a temporary data set"
      ]
    },
    {
      "cell_type": "code",
      "metadata": {
        "id": "3goDRbOESfaR"
      },
      "source": [
        "city_split = pd.DataFrame(columns=['city_name'])"
      ],
      "execution_count": null,
      "outputs": []
    },
    {
      "cell_type": "markdown",
      "metadata": {
        "id": "qIqUo4coYa_p"
      },
      "source": [
        "Splitting city names and them to a temporary data set\n"
      ]
    },
    {
      "cell_type": "code",
      "metadata": {
        "id": "zmrA5N5nS6k-"
      },
      "source": [
        "city_split['city_name'] = city_data.headline_category.str.split('.',expand=True)[1]"
      ],
      "execution_count": null,
      "outputs": []
    },
    {
      "cell_type": "markdown",
      "metadata": {
        "id": "FifDY3BcYqP7"
      },
      "source": [
        "conacatination"
      ]
    },
    {
      "cell_type": "code",
      "metadata": {
        "id": "2hOr2UDeYtNv"
      },
      "source": [
        "city_data = pd.concat([city_data,city_split],axis=1)"
      ],
      "execution_count": null,
      "outputs": []
    },
    {
      "cell_type": "code",
      "metadata": {
        "id": "kP7zRSStS9ft",
        "outputId": "7111d9f3-c6e5-4f7e-bc26-9a93d1d06663",
        "colab": {
          "base_uri": "https://localhost:8080/",
          "height": 419
        }
      },
      "source": [
        "city_data"
      ],
      "execution_count": null,
      "outputs": [
        {
          "output_type": "execute_result",
          "data": {
            "text/html": [
              "<div>\n",
              "<style scoped>\n",
              "    .dataframe tbody tr th:only-of-type {\n",
              "        vertical-align: middle;\n",
              "    }\n",
              "\n",
              "    .dataframe tbody tr th {\n",
              "        vertical-align: top;\n",
              "    }\n",
              "\n",
              "    .dataframe thead th {\n",
              "        text-align: right;\n",
              "    }\n",
              "</style>\n",
              "<table border=\"1\" class=\"dataframe\">\n",
              "  <thead>\n",
              "    <tr style=\"text-align: right;\">\n",
              "      <th></th>\n",
              "      <th>publish_date</th>\n",
              "      <th>headline_category</th>\n",
              "      <th>headline_text</th>\n",
              "      <th>city_name</th>\n",
              "    </tr>\n",
              "  </thead>\n",
              "  <tbody>\n",
              "    <tr>\n",
              "      <th>274</th>\n",
              "      <td>20010104</td>\n",
              "      <td>city.bengaluru</td>\n",
              "      <td>Three in race for chief secy's post</td>\n",
              "      <td>bengaluru</td>\n",
              "    </tr>\n",
              "    <tr>\n",
              "      <th>275</th>\n",
              "      <td>20010104</td>\n",
              "      <td>city.patna</td>\n",
              "      <td>Druggists' stir leads to shortage of medicines</td>\n",
              "      <td>patna</td>\n",
              "    </tr>\n",
              "    <tr>\n",
              "      <th>278</th>\n",
              "      <td>20010104</td>\n",
              "      <td>city.bengaluru</td>\n",
              "      <td>He's not so inscrutable</td>\n",
              "      <td>bengaluru</td>\n",
              "    </tr>\n",
              "    <tr>\n",
              "      <th>279</th>\n",
              "      <td>20010104</td>\n",
              "      <td>city.delhi</td>\n",
              "      <td>DPCC stages Nyay rally</td>\n",
              "      <td>delhi</td>\n",
              "    </tr>\n",
              "    <tr>\n",
              "      <th>643</th>\n",
              "      <td>20010110</td>\n",
              "      <td>city.patna</td>\n",
              "      <td>Fend for yourselves; Pande tells doctors</td>\n",
              "      <td>patna</td>\n",
              "    </tr>\n",
              "    <tr>\n",
              "      <th>...</th>\n",
              "      <td>...</td>\n",
              "      <td>...</td>\n",
              "      <td>...</td>\n",
              "      <td>...</td>\n",
              "    </tr>\n",
              "    <tr>\n",
              "      <th>3297139</th>\n",
              "      <td>20200630</td>\n",
              "      <td>city.delhi</td>\n",
              "      <td>Remove illegal signage or face penalty: NDMC</td>\n",
              "      <td>delhi</td>\n",
              "    </tr>\n",
              "    <tr>\n",
              "      <th>3297158</th>\n",
              "      <td>20200630</td>\n",
              "      <td>city.bengaluru</td>\n",
              "      <td>what bengaluru can do to tackle covid surge</td>\n",
              "      <td>bengaluru</td>\n",
              "    </tr>\n",
              "    <tr>\n",
              "      <th>3297161</th>\n",
              "      <td>20200630</td>\n",
              "      <td>city.bengaluru</td>\n",
              "      <td>karnataka may adopt keralas triple lockdown plan</td>\n",
              "      <td>bengaluru</td>\n",
              "    </tr>\n",
              "    <tr>\n",
              "      <th>3297162</th>\n",
              "      <td>20200630</td>\n",
              "      <td>city.kanpur</td>\n",
              "      <td>vehicle of up stf team bringing gangster vikas...</td>\n",
              "      <td>kanpur</td>\n",
              "    </tr>\n",
              "    <tr>\n",
              "      <th>3297166</th>\n",
              "      <td>20200630</td>\n",
              "      <td>city.lucknow</td>\n",
              "      <td>up govt imposes weekend restrictions from tonight</td>\n",
              "      <td>lucknow</td>\n",
              "    </tr>\n",
              "  </tbody>\n",
              "</table>\n",
              "<p>1842288 rows × 4 columns</p>\n",
              "</div>"
            ],
            "text/plain": [
              "         publish_date  ...  city_name\n",
              "274          20010104  ...  bengaluru\n",
              "275          20010104  ...      patna\n",
              "278          20010104  ...  bengaluru\n",
              "279          20010104  ...      delhi\n",
              "643          20010110  ...      patna\n",
              "...               ...  ...        ...\n",
              "3297139      20200630  ...      delhi\n",
              "3297158      20200630  ...  bengaluru\n",
              "3297161      20200630  ...  bengaluru\n",
              "3297162      20200630  ...     kanpur\n",
              "3297166      20200630  ...    lucknow\n",
              "\n",
              "[1842288 rows x 4 columns]"
            ]
          },
          "metadata": {
            "tags": []
          },
          "execution_count": 55
        }
      ]
    },
    {
      "cell_type": "code",
      "metadata": {
        "id": "1052xlZETJTS"
      },
      "source": [
        "city_data.drop(columns=['headline_category'],axis=1, inplace=True)"
      ],
      "execution_count": null,
      "outputs": []
    },
    {
      "cell_type": "code",
      "metadata": {
        "id": "OmVgXQB7VNGg"
      },
      "source": [
        "city_data.reset_index(inplace=True)"
      ],
      "execution_count": null,
      "outputs": []
    },
    {
      "cell_type": "code",
      "metadata": {
        "id": "KKSSMwAFVWLj",
        "outputId": "c7afaed7-faac-4ccf-b7cc-b4d08addd1a9",
        "colab": {
          "base_uri": "https://localhost:8080/",
          "height": 419
        }
      },
      "source": [
        "city_data"
      ],
      "execution_count": null,
      "outputs": [
        {
          "output_type": "execute_result",
          "data": {
            "text/html": [
              "<div>\n",
              "<style scoped>\n",
              "    .dataframe tbody tr th:only-of-type {\n",
              "        vertical-align: middle;\n",
              "    }\n",
              "\n",
              "    .dataframe tbody tr th {\n",
              "        vertical-align: top;\n",
              "    }\n",
              "\n",
              "    .dataframe thead th {\n",
              "        text-align: right;\n",
              "    }\n",
              "</style>\n",
              "<table border=\"1\" class=\"dataframe\">\n",
              "  <thead>\n",
              "    <tr style=\"text-align: right;\">\n",
              "      <th></th>\n",
              "      <th>index</th>\n",
              "      <th>publish_date</th>\n",
              "      <th>headline_text</th>\n",
              "      <th>city_name</th>\n",
              "    </tr>\n",
              "  </thead>\n",
              "  <tbody>\n",
              "    <tr>\n",
              "      <th>0</th>\n",
              "      <td>274</td>\n",
              "      <td>20010104</td>\n",
              "      <td>Three in race for chief secy's post</td>\n",
              "      <td>bengaluru</td>\n",
              "    </tr>\n",
              "    <tr>\n",
              "      <th>1</th>\n",
              "      <td>275</td>\n",
              "      <td>20010104</td>\n",
              "      <td>Druggists' stir leads to shortage of medicines</td>\n",
              "      <td>patna</td>\n",
              "    </tr>\n",
              "    <tr>\n",
              "      <th>2</th>\n",
              "      <td>278</td>\n",
              "      <td>20010104</td>\n",
              "      <td>He's not so inscrutable</td>\n",
              "      <td>bengaluru</td>\n",
              "    </tr>\n",
              "    <tr>\n",
              "      <th>3</th>\n",
              "      <td>279</td>\n",
              "      <td>20010104</td>\n",
              "      <td>DPCC stages Nyay rally</td>\n",
              "      <td>delhi</td>\n",
              "    </tr>\n",
              "    <tr>\n",
              "      <th>4</th>\n",
              "      <td>643</td>\n",
              "      <td>20010110</td>\n",
              "      <td>Fend for yourselves; Pande tells doctors</td>\n",
              "      <td>patna</td>\n",
              "    </tr>\n",
              "    <tr>\n",
              "      <th>...</th>\n",
              "      <td>...</td>\n",
              "      <td>...</td>\n",
              "      <td>...</td>\n",
              "      <td>...</td>\n",
              "    </tr>\n",
              "    <tr>\n",
              "      <th>1842283</th>\n",
              "      <td>3297139</td>\n",
              "      <td>20200630</td>\n",
              "      <td>Remove illegal signage or face penalty: NDMC</td>\n",
              "      <td>delhi</td>\n",
              "    </tr>\n",
              "    <tr>\n",
              "      <th>1842284</th>\n",
              "      <td>3297158</td>\n",
              "      <td>20200630</td>\n",
              "      <td>what bengaluru can do to tackle covid surge</td>\n",
              "      <td>bengaluru</td>\n",
              "    </tr>\n",
              "    <tr>\n",
              "      <th>1842285</th>\n",
              "      <td>3297161</td>\n",
              "      <td>20200630</td>\n",
              "      <td>karnataka may adopt keralas triple lockdown plan</td>\n",
              "      <td>bengaluru</td>\n",
              "    </tr>\n",
              "    <tr>\n",
              "      <th>1842286</th>\n",
              "      <td>3297162</td>\n",
              "      <td>20200630</td>\n",
              "      <td>vehicle of up stf team bringing gangster vikas...</td>\n",
              "      <td>kanpur</td>\n",
              "    </tr>\n",
              "    <tr>\n",
              "      <th>1842287</th>\n",
              "      <td>3297166</td>\n",
              "      <td>20200630</td>\n",
              "      <td>up govt imposes weekend restrictions from tonight</td>\n",
              "      <td>lucknow</td>\n",
              "    </tr>\n",
              "  </tbody>\n",
              "</table>\n",
              "<p>1842288 rows × 4 columns</p>\n",
              "</div>"
            ],
            "text/plain": [
              "           index  ...  city_name\n",
              "0            274  ...  bengaluru\n",
              "1            275  ...      patna\n",
              "2            278  ...  bengaluru\n",
              "3            279  ...      delhi\n",
              "4            643  ...      patna\n",
              "...          ...  ...        ...\n",
              "1842283  3297139  ...      delhi\n",
              "1842284  3297158  ...  bengaluru\n",
              "1842285  3297161  ...  bengaluru\n",
              "1842286  3297162  ...     kanpur\n",
              "1842287  3297166  ...    lucknow\n",
              "\n",
              "[1842288 rows x 4 columns]"
            ]
          },
          "metadata": {
            "tags": []
          },
          "execution_count": 58
        }
      ]
    },
    {
      "cell_type": "code",
      "metadata": {
        "id": "xjc6jK8cWXKa",
        "outputId": "aef2adf1-ecf3-4f39-d163-4058b6fb978d",
        "colab": {
          "base_uri": "https://localhost:8080/",
          "height": 238
        }
      },
      "source": [
        "city_data.city_name.unique()"
      ],
      "execution_count": null,
      "outputs": [
        {
          "output_type": "execute_result",
          "data": {
            "text/plain": [
              "array(['bengaluru', 'patna', 'delhi', 'ahmedabad', 'thiruvananthapuram',\n",
              "       'pune', 'mumbai', 'chandigarh', 'lucknow', 'kolkata', 'hyderabad',\n",
              "       'chennai', 'bareilly', 'aurangabad', 'nagpur', 'bhopal',\n",
              "       'vadodara', 'jaipur', 'goa', 'thane', 'hubballi', 'mangaluru',\n",
              "       'mysuru', 'rajkot', 'surat', 'kanpur', 'varanasi', 'allahabad',\n",
              "       'ludhiana', 'guwahati', 'bhubaneswar', 'ranchi', 'gurgaon',\n",
              "       'coimbatore', 'noida', 'madurai', 'indore', 'kochi', 'kozhikode',\n",
              "       'nashik', 'raipur', 'visakhapatnam', 'kolhapur', 'navimumbai',\n",
              "       'trichy', 'puducherry', 'dehradun', 'meerut', 'agra', 'vijayawada',\n",
              "       'jamshedpur', 'imphal', 'shillong', 'amritsar', 'shimla',\n",
              "       'cuttack', 'jind', 'agartala', 'jammu', 'faridabad', 'srinagar',\n",
              "       'salem', 'rajahmundry', 'erode', 'ghaziabad', 'itanagar', 'ajmer',\n",
              "       'kohima', 'gaya', 'jodhpur', 'udaipur', 'amaravati'], dtype=object)"
            ]
          },
          "metadata": {
            "tags": []
          },
          "execution_count": 59
        }
      ]
    },
    {
      "cell_type": "markdown",
      "metadata": {
        "id": "JIpSry2zZh82"
      },
      "source": [
        "Grouping by headlines"
      ]
    },
    {
      "cell_type": "code",
      "metadata": {
        "id": "VHspBentW0Ff"
      },
      "source": [
        "city_headline = city_data.groupby(['city_name']).agg({'headline_text':'count'})"
      ],
      "execution_count": null,
      "outputs": []
    },
    {
      "cell_type": "code",
      "metadata": {
        "id": "7kdvLOBuW3do",
        "outputId": "2ea264d4-4391-451d-bcdf-7dcc9f7d603c",
        "colab": {
          "base_uri": "https://localhost:8080/",
          "height": 450
        }
      },
      "source": [
        "city_headline"
      ],
      "execution_count": null,
      "outputs": [
        {
          "output_type": "execute_result",
          "data": {
            "text/html": [
              "<div>\n",
              "<style scoped>\n",
              "    .dataframe tbody tr th:only-of-type {\n",
              "        vertical-align: middle;\n",
              "    }\n",
              "\n",
              "    .dataframe tbody tr th {\n",
              "        vertical-align: top;\n",
              "    }\n",
              "\n",
              "    .dataframe thead th {\n",
              "        text-align: right;\n",
              "    }\n",
              "</style>\n",
              "<table border=\"1\" class=\"dataframe\">\n",
              "  <thead>\n",
              "    <tr style=\"text-align: right;\">\n",
              "      <th></th>\n",
              "      <th>headline_text</th>\n",
              "    </tr>\n",
              "    <tr>\n",
              "      <th>city_name</th>\n",
              "      <th></th>\n",
              "    </tr>\n",
              "  </thead>\n",
              "  <tbody>\n",
              "    <tr>\n",
              "      <th>agartala</th>\n",
              "      <td>1177</td>\n",
              "    </tr>\n",
              "    <tr>\n",
              "      <th>agra</th>\n",
              "      <td>4043</td>\n",
              "    </tr>\n",
              "    <tr>\n",
              "      <th>ahmedabad</th>\n",
              "      <td>85813</td>\n",
              "    </tr>\n",
              "    <tr>\n",
              "      <th>ajmer</th>\n",
              "      <td>1319</td>\n",
              "    </tr>\n",
              "    <tr>\n",
              "      <th>allahabad</th>\n",
              "      <td>18767</td>\n",
              "    </tr>\n",
              "    <tr>\n",
              "      <th>...</th>\n",
              "      <td>...</td>\n",
              "    </tr>\n",
              "    <tr>\n",
              "      <th>udaipur</th>\n",
              "      <td>1087</td>\n",
              "    </tr>\n",
              "    <tr>\n",
              "      <th>vadodara</th>\n",
              "      <td>20794</td>\n",
              "    </tr>\n",
              "    <tr>\n",
              "      <th>varanasi</th>\n",
              "      <td>15772</td>\n",
              "    </tr>\n",
              "    <tr>\n",
              "      <th>vijayawada</th>\n",
              "      <td>7441</td>\n",
              "    </tr>\n",
              "    <tr>\n",
              "      <th>visakhapatnam</th>\n",
              "      <td>12230</td>\n",
              "    </tr>\n",
              "  </tbody>\n",
              "</table>\n",
              "<p>72 rows × 1 columns</p>\n",
              "</div>"
            ],
            "text/plain": [
              "               headline_text\n",
              "city_name                   \n",
              "agartala                1177\n",
              "agra                    4043\n",
              "ahmedabad              85813\n",
              "ajmer                   1319\n",
              "allahabad              18767\n",
              "...                      ...\n",
              "udaipur                 1087\n",
              "vadodara               20794\n",
              "varanasi               15772\n",
              "vijayawada              7441\n",
              "visakhapatnam          12230\n",
              "\n",
              "[72 rows x 1 columns]"
            ]
          },
          "metadata": {
            "tags": []
          },
          "execution_count": 50
        }
      ]
    },
    {
      "cell_type": "code",
      "metadata": {
        "id": "QzPJoPaKZ68P"
      },
      "source": [
        "city_headline = city_headline.sort_values(by='headline_text',ascending=False)"
      ],
      "execution_count": null,
      "outputs": []
    },
    {
      "cell_type": "code",
      "metadata": {
        "id": "u-cjiasLXriW",
        "outputId": "d35b1a08-a0a8-4e20-eb41-85ecdc1daf34",
        "colab": {
          "base_uri": "https://localhost:8080/",
          "height": 450
        }
      },
      "source": [
        "city_headline"
      ],
      "execution_count": null,
      "outputs": [
        {
          "output_type": "execute_result",
          "data": {
            "text/html": [
              "<div>\n",
              "<style scoped>\n",
              "    .dataframe tbody tr th:only-of-type {\n",
              "        vertical-align: middle;\n",
              "    }\n",
              "\n",
              "    .dataframe tbody tr th {\n",
              "        vertical-align: top;\n",
              "    }\n",
              "\n",
              "    .dataframe thead th {\n",
              "        text-align: right;\n",
              "    }\n",
              "</style>\n",
              "<table border=\"1\" class=\"dataframe\">\n",
              "  <thead>\n",
              "    <tr style=\"text-align: right;\">\n",
              "      <th></th>\n",
              "      <th>headline_text</th>\n",
              "    </tr>\n",
              "    <tr>\n",
              "      <th>city_name</th>\n",
              "      <th></th>\n",
              "    </tr>\n",
              "  </thead>\n",
              "  <tbody>\n",
              "    <tr>\n",
              "      <th>mumbai</th>\n",
              "      <td>132649</td>\n",
              "    </tr>\n",
              "    <tr>\n",
              "      <th>delhi</th>\n",
              "      <td>124658</td>\n",
              "    </tr>\n",
              "    <tr>\n",
              "      <th>chandigarh</th>\n",
              "      <td>107464</td>\n",
              "    </tr>\n",
              "    <tr>\n",
              "      <th>hyderabad</th>\n",
              "      <td>99014</td>\n",
              "    </tr>\n",
              "    <tr>\n",
              "      <th>bengaluru</th>\n",
              "      <td>91857</td>\n",
              "    </tr>\n",
              "    <tr>\n",
              "      <th>...</th>\n",
              "      <td>...</td>\n",
              "    </tr>\n",
              "    <tr>\n",
              "      <th>itanagar</th>\n",
              "      <td>709</td>\n",
              "    </tr>\n",
              "    <tr>\n",
              "      <th>gaya</th>\n",
              "      <td>461</td>\n",
              "    </tr>\n",
              "    <tr>\n",
              "      <th>kohima</th>\n",
              "      <td>432</td>\n",
              "    </tr>\n",
              "    <tr>\n",
              "      <th>jind</th>\n",
              "      <td>291</td>\n",
              "    </tr>\n",
              "    <tr>\n",
              "      <th>rajahmundry</th>\n",
              "      <td>116</td>\n",
              "    </tr>\n",
              "  </tbody>\n",
              "</table>\n",
              "<p>72 rows × 1 columns</p>\n",
              "</div>"
            ],
            "text/plain": [
              "             headline_text\n",
              "city_name                 \n",
              "mumbai              132649\n",
              "delhi               124658\n",
              "chandigarh          107464\n",
              "hyderabad            99014\n",
              "bengaluru            91857\n",
              "...                    ...\n",
              "itanagar               709\n",
              "gaya                   461\n",
              "kohima                 432\n",
              "jind                   291\n",
              "rajahmundry            116\n",
              "\n",
              "[72 rows x 1 columns]"
            ]
          },
          "metadata": {
            "tags": []
          },
          "execution_count": 22
        }
      ]
    },
    {
      "cell_type": "code",
      "metadata": {
        "id": "djfSc1nqaJzp"
      },
      "source": [
        "top_15_headline_city = city_headline.head(15)"
      ],
      "execution_count": null,
      "outputs": []
    },
    {
      "cell_type": "code",
      "metadata": {
        "id": "kAZGCpIDaMRP"
      },
      "source": [
        "top_15_headline_city"
      ],
      "execution_count": null,
      "outputs": []
    },
    {
      "cell_type": "code",
      "metadata": {
        "id": "ekm2IIO4afr_",
        "outputId": "52208d13-f33b-465c-a585-9e8eaf5fa615",
        "colab": {
          "base_uri": "https://localhost:8080/",
          "height": 282
        }
      },
      "source": [
        "plt.bar(top_15_headline_city.index,height=top_15_headline_city['headline_text'])"
      ],
      "execution_count": null,
      "outputs": [
        {
          "output_type": "execute_result",
          "data": {
            "text/plain": [
              "<BarContainer object of 15 artists>"
            ]
          },
          "metadata": {
            "tags": []
          },
          "execution_count": 53
        },
        {
          "output_type": "display_data",
          "data": {
            "image/png": "[encoded data removed]",
            "text/plain": [
              "<Figure size 432x288 with 1 Axes>"
            ]
          },
          "metadata": {
            "tags": []
          }
        }
      ]
    },
    {
      "cell_type": "code",
      "metadata": {
        "id": "m5Y15UVyamRi",
        "outputId": "4e4e0404-66bb-4fa6-e840-ec93fb61cee9",
        "colab": {
          "base_uri": "https://localhost:8080/",
          "height": 638
        }
      },
      "source": [
        "plt.figure(figsize=(15,10))\n",
        "plt.bar(top_15_headline_city.index,height=top_15_headline_city['headline_text'])\n",
        "plt.xlabel('City Name')\n",
        "plt.ylabel('Number of recorded articles')\n",
        "plt.title('Bar plot based on cities of top 15')"
      ],
      "execution_count": null,
      "outputs": [
        {
          "output_type": "execute_result",
          "data": {
            "text/plain": [
              "Text(0.5, 1.0, 'Bar plot based on cities of top 15')"
            ]
          },
          "metadata": {
            "tags": []
          },
          "execution_count": 63
        },
        {
          "output_type": "display_data",
          "data": {
            "image/png": "[encoded data removed]",
            "text/plain": [
              "<Figure size 1080x720 with 1 Axes>"
            ]
          },
          "metadata": {
            "tags": []
          }
        }
      ]
    },
    {
      "cell_type": "code",
      "metadata": {
        "id": "R9PQG-5abcOk"
      },
      "source": [
        "city_lesscount = city_headline.sort_values(by='headline_text',ascending=True)"
      ],
      "execution_count": null,
      "outputs": []
    },
    {
      "cell_type": "code",
      "metadata": {
        "id": "-2dopEgCbjXi"
      },
      "source": [
        "city_lesscount"
      ],
      "execution_count": null,
      "outputs": []
    },
    {
      "cell_type": "code",
      "metadata": {
        "id": "5xJMkc_GcBeb",
        "outputId": "3bda13b7-25a7-4094-e2d7-2e9041bb4b70",
        "colab": {
          "base_uri": "https://localhost:8080/",
          "height": 390
        }
      },
      "source": [
        "tail_10_headline_city = city_lesscount.head(10)\n",
        "tail_10_headline_city"
      ],
      "execution_count": null,
      "outputs": [
        {
          "output_type": "execute_result",
          "data": {
            "text/html": [
              "<div>\n",
              "<style scoped>\n",
              "    .dataframe tbody tr th:only-of-type {\n",
              "        vertical-align: middle;\n",
              "    }\n",
              "\n",
              "    .dataframe tbody tr th {\n",
              "        vertical-align: top;\n",
              "    }\n",
              "\n",
              "    .dataframe thead th {\n",
              "        text-align: right;\n",
              "    }\n",
              "</style>\n",
              "<table border=\"1\" class=\"dataframe\">\n",
              "  <thead>\n",
              "    <tr style=\"text-align: right;\">\n",
              "      <th></th>\n",
              "      <th>headline_text</th>\n",
              "    </tr>\n",
              "    <tr>\n",
              "      <th>city_name</th>\n",
              "      <th></th>\n",
              "    </tr>\n",
              "  </thead>\n",
              "  <tbody>\n",
              "    <tr>\n",
              "      <th>rajahmundry</th>\n",
              "      <td>116</td>\n",
              "    </tr>\n",
              "    <tr>\n",
              "      <th>jind</th>\n",
              "      <td>291</td>\n",
              "    </tr>\n",
              "    <tr>\n",
              "      <th>kohima</th>\n",
              "      <td>432</td>\n",
              "    </tr>\n",
              "    <tr>\n",
              "      <th>gaya</th>\n",
              "      <td>461</td>\n",
              "    </tr>\n",
              "    <tr>\n",
              "      <th>itanagar</th>\n",
              "      <td>709</td>\n",
              "    </tr>\n",
              "    <tr>\n",
              "      <th>faridabad</th>\n",
              "      <td>724</td>\n",
              "    </tr>\n",
              "    <tr>\n",
              "      <th>shillong</th>\n",
              "      <td>1020</td>\n",
              "    </tr>\n",
              "    <tr>\n",
              "      <th>jamshedpur</th>\n",
              "      <td>1065</td>\n",
              "    </tr>\n",
              "    <tr>\n",
              "      <th>udaipur</th>\n",
              "      <td>1087</td>\n",
              "    </tr>\n",
              "    <tr>\n",
              "      <th>erode</th>\n",
              "      <td>1088</td>\n",
              "    </tr>\n",
              "  </tbody>\n",
              "</table>\n",
              "</div>"
            ],
            "text/plain": [
              "             headline_text\n",
              "city_name                 \n",
              "rajahmundry            116\n",
              "jind                   291\n",
              "kohima                 432\n",
              "gaya                   461\n",
              "itanagar               709\n",
              "faridabad              724\n",
              "shillong              1020\n",
              "jamshedpur            1065\n",
              "udaipur               1087\n",
              "erode                 1088"
            ]
          },
          "metadata": {
            "tags": []
          },
          "execution_count": 56
        }
      ]
    },
    {
      "cell_type": "code",
      "metadata": {
        "id": "oLW7KYuCc51w",
        "outputId": "b85d269c-4443-41d6-d07e-de7705f1e459",
        "colab": {
          "base_uri": "https://localhost:8080/",
          "height": 530
        }
      },
      "source": [
        "plt.figure(figsize=(18,8))\n",
        "plt.bar(tail_10_headline_city.index,height=tail_10_headline_city['headline_text'])\n",
        "plt.xlabel('Cities Names')\n",
        "plt.ylabel('Number of recorded articles')\n",
        "plt.title('Articles per city')"
      ],
      "execution_count": null,
      "outputs": [
        {
          "output_type": "execute_result",
          "data": {
            "text/plain": [
              "Text(0.5, 1.0, 'Articles per city')"
            ]
          },
          "metadata": {
            "tags": []
          },
          "execution_count": 57
        },
        {
          "output_type": "display_data",
          "data": {
            "image/png": "[encoded data removed]",
            "text/plain": [
              "<Figure size 1296x576 with 1 Axes>"
            ]
          },
          "metadata": {
            "tags": []
          }
        }
      ]
    },
    {
      "cell_type": "markdown",
      "metadata": {
        "id": "aafQaH5OdUtH"
      },
      "source": [
        "Observed that ***Rajahmundry*** & ***Jind*** having less article per day and\n",
        "***Mumbai*** & ***Delhi*** having high articles per day.."
      ]
    },
    {
      "cell_type": "code",
      "metadata": {
        "id": "20BDmhkijtqz",
        "outputId": "552f10ab-607d-4c9e-cdfb-b21d083d765e",
        "colab": {
          "base_uri": "https://localhost:8080/",
          "height": 207
        }
      },
      "source": [
        "pip install vaderSentiment"
      ],
      "execution_count": null,
      "outputs": [
        {
          "output_type": "stream",
          "text": [
            "Collecting vaderSentiment\n",
            "\u001b[?25l  Downloading https://files.pythonhosted.org/packages/76/fc/310e16254683c1ed35eeb97386986d6c00bc29df17ce280aed64d55537e9/vaderSentiment-3.3.2-py2.py3-none-any.whl (125kB)\n",
            "\r\u001b[K     |██▋                             | 10kB 13.6MB/s eta 0:00:01\r\u001b[K     |█████▏                          | 20kB 2.2MB/s eta 0:00:01\r\u001b[K     |███████▉                        | 30kB 2.8MB/s eta 0:00:01\r\u001b[K     |██████████▍                     | 40kB 3.1MB/s eta 0:00:01\r\u001b[K     |█████████████                   | 51kB 2.4MB/s eta 0:00:01\r\u001b[K     |███████████████▋                | 61kB 2.8MB/s eta 0:00:01\r\u001b[K     |██████████████████▏             | 71kB 3.0MB/s eta 0:00:01\r\u001b[K     |████████████████████▉           | 81kB 3.4MB/s eta 0:00:01\r\u001b[K     |███████████████████████▍        | 92kB 3.6MB/s eta 0:00:01\r\u001b[K     |██████████████████████████      | 102kB 3.4MB/s eta 0:00:01\r\u001b[K     |████████████████████████████▋   | 112kB 3.4MB/s eta 0:00:01\r\u001b[K     |███████████████████████████████▏| 122kB 3.4MB/s eta 0:00:01\r\u001b[K     |████████████████████████████████| 133kB 3.4MB/s \n",
            "\u001b[?25hRequirement already satisfied: requests in /usr/local/lib/python3.6/dist-packages (from vaderSentiment) (2.23.0)\n",
            "Requirement already satisfied: chardet<4,>=3.0.2 in /usr/local/lib/python3.6/dist-packages (from requests->vaderSentiment) (3.0.4)\n",
            "Requirement already satisfied: idna<3,>=2.5 in /usr/local/lib/python3.6/dist-packages (from requests->vaderSentiment) (2.10)\n",
            "Requirement already satisfied: certifi>=2017.4.17 in /usr/local/lib/python3.6/dist-packages (from requests->vaderSentiment) (2020.6.20)\n",
            "Requirement already satisfied: urllib3!=1.25.0,!=1.25.1,<1.26,>=1.21.1 in /usr/local/lib/python3.6/dist-packages (from requests->vaderSentiment) (1.24.3)\n",
            "Installing collected packages: vaderSentiment\n",
            "Successfully installed vaderSentiment-3.3.2\n"
          ],
          "name": "stdout"
        }
      ]
    },
    {
      "cell_type": "code",
      "metadata": {
        "id": "3SD_oklLbzXE"
      },
      "source": [
        "from vaderSentiment .vaderSentiment import SentimentIntensityAnalyzer"
      ],
      "execution_count": null,
      "outputs": []
    },
    {
      "cell_type": "code",
      "metadata": {
        "id": "YmCRr_z_j3Wz"
      },
      "source": [
        "sid_object = SentimentIntensityAnalyzer()"
      ],
      "execution_count": null,
      "outputs": []
    },
    {
      "cell_type": "code",
      "metadata": {
        "id": "Dz3O5cN7lb5g"
      },
      "source": [
        "sentiment_dict = sid_object.polarity_scores(d['headline_category'])"
      ],
      "execution_count": null,
      "outputs": []
    },
    {
      "cell_type": "code",
      "metadata": {
        "id": "RnfFcgh-l8MA"
      },
      "source": [
        "print(\"Overall sentiment dic is : \", sentiment_dict)\n",
        "print(\"sentimented rated as \", sentiment_dict[\"neg\"]*100,\"% Negative\")\n",
        "print(\"sentiment rated as\", sentiment_dict[\"neu\"]*100,\"% Neutral\")\n",
        "print(\"senrtiment rated as \", sentiment_dict[\"pos\"]*100,\" % Positive\")\n",
        "\n",
        "if sentiment_dict['compound'] < 0:\n",
        "   print(\"Negative\")\n",
        "elif sentiment_dict['compound']== 0:\n",
        "   print(\"Neutral\")\n",
        "else :\n",
        "   print(\"Positive\")\n"
      ],
      "execution_count": null,
      "outputs": []
    },
    {
      "cell_type": "code",
      "metadata": {
        "id": "Z1fMXHQSKDUQ"
      },
      "source": [
        "import numpy as np"
      ],
      "execution_count": null,
      "outputs": []
    },
    {
      "cell_type": "code",
      "metadata": {
        "id": "qKGto1OMnBuC"
      },
      "source": [
        "def getAnalysis_polarity(headline):\n",
        "    result = TextBlob(headline)\n",
        "    \n",
        "    if result.sentiment.polarity < 0:\n",
        "        return 'negative'\n",
        "    elif result.sentiment.polarity == 0:\n",
        "        return 'neutral'\n",
        "    else:\n",
        "        return 'positive'"
      ],
      "execution_count": null,
      "outputs": []
    },
    {
      "cell_type": "code",
      "metadata": {
        "id": "t1mpPBVNpVkV",
        "colab": {
          "background_save": true
        }
      },
      "source": [
        "d['Result'] = np.array([getAnalysis_polarity(headline) for headline in d['headline_text']])"
      ],
      "execution_count": null,
      "outputs": []
    },
    {
      "cell_type": "code",
      "metadata": {
        "id": "u0a_p2RaPdn2",
        "outputId": "723dac49-b0f2-4dc7-8e4d-cf3575f2429c",
        "colab": {
          "base_uri": "https://localhost:8080/",
          "height": 204
        }
      },
      "source": [
        "d.head()"
      ],
      "execution_count": 68,
      "outputs": [
        {
          "output_type": "execute_result",
          "data": {
            "text/html": [
              "<div>\n",
              "<style scoped>\n",
              "    .dataframe tbody tr th:only-of-type {\n",
              "        vertical-align: middle;\n",
              "    }\n",
              "\n",
              "    .dataframe tbody tr th {\n",
              "        vertical-align: top;\n",
              "    }\n",
              "\n",
              "    .dataframe thead th {\n",
              "        text-align: right;\n",
              "    }\n",
              "</style>\n",
              "<table border=\"1\" class=\"dataframe\">\n",
              "  <thead>\n",
              "    <tr style=\"text-align: right;\">\n",
              "      <th></th>\n",
              "      <th>publish_date</th>\n",
              "      <th>headline_category</th>\n",
              "      <th>headline_text</th>\n",
              "      <th>Result</th>\n",
              "    </tr>\n",
              "  </thead>\n",
              "  <tbody>\n",
              "    <tr>\n",
              "      <th>0</th>\n",
              "      <td>20010101</td>\n",
              "      <td>sports.wwe</td>\n",
              "      <td>win over cena satisfying but defeating underta...</td>\n",
              "      <td>positive</td>\n",
              "    </tr>\n",
              "    <tr>\n",
              "      <th>1</th>\n",
              "      <td>20010102</td>\n",
              "      <td>unknown</td>\n",
              "      <td>Status quo will not be disturbed at Ayodhya; s...</td>\n",
              "      <td>neutral</td>\n",
              "    </tr>\n",
              "    <tr>\n",
              "      <th>2</th>\n",
              "      <td>20010102</td>\n",
              "      <td>unknown</td>\n",
              "      <td>Fissures in Hurriyat over Pak visit</td>\n",
              "      <td>neutral</td>\n",
              "    </tr>\n",
              "    <tr>\n",
              "      <th>3</th>\n",
              "      <td>20010102</td>\n",
              "      <td>unknown</td>\n",
              "      <td>America's unwanted heading for India?</td>\n",
              "      <td>neutral</td>\n",
              "    </tr>\n",
              "    <tr>\n",
              "      <th>4</th>\n",
              "      <td>20010102</td>\n",
              "      <td>unknown</td>\n",
              "      <td>For bigwigs; it is destination Goa</td>\n",
              "      <td>neutral</td>\n",
              "    </tr>\n",
              "  </tbody>\n",
              "</table>\n",
              "</div>"
            ],
            "text/plain": [
              "   publish_date  ...    Result\n",
              "0      20010101  ...  positive\n",
              "1      20010102  ...   neutral\n",
              "2      20010102  ...   neutral\n",
              "3      20010102  ...   neutral\n",
              "4      20010102  ...   neutral\n",
              "\n",
              "[5 rows x 4 columns]"
            ]
          },
          "metadata": {
            "tags": []
          },
          "execution_count": 68
        }
      ]
    },
    {
      "cell_type": "code",
      "metadata": {
        "id": "hwSzEeCNQ90z"
      },
      "source": [
        "final_result = d.groupby(['Result']).agg({'headline_text':'count'})"
      ],
      "execution_count": 69,
      "outputs": []
    },
    {
      "cell_type": "code",
      "metadata": {
        "id": "ff9n06OKRBVP",
        "outputId": "827cb9b7-f3e2-4348-8375-9bcff69e3857",
        "colab": {
          "base_uri": "https://localhost:8080/",
          "height": 173
        }
      },
      "source": [
        "final_result"
      ],
      "execution_count": 70,
      "outputs": [
        {
          "output_type": "execute_result",
          "data": {
            "text/html": [
              "<div>\n",
              "<style scoped>\n",
              "    .dataframe tbody tr th:only-of-type {\n",
              "        vertical-align: middle;\n",
              "    }\n",
              "\n",
              "    .dataframe tbody tr th {\n",
              "        vertical-align: top;\n",
              "    }\n",
              "\n",
              "    .dataframe thead th {\n",
              "        text-align: right;\n",
              "    }\n",
              "</style>\n",
              "<table border=\"1\" class=\"dataframe\">\n",
              "  <thead>\n",
              "    <tr style=\"text-align: right;\">\n",
              "      <th></th>\n",
              "      <th>headline_text</th>\n",
              "    </tr>\n",
              "    <tr>\n",
              "      <th>Result</th>\n",
              "      <th></th>\n",
              "    </tr>\n",
              "  </thead>\n",
              "  <tbody>\n",
              "    <tr>\n",
              "      <th>negative</th>\n",
              "      <td>398194</td>\n",
              "    </tr>\n",
              "    <tr>\n",
              "      <th>neutral</th>\n",
              "      <td>2301599</td>\n",
              "    </tr>\n",
              "    <tr>\n",
              "      <th>positive</th>\n",
              "      <td>597379</td>\n",
              "    </tr>\n",
              "  </tbody>\n",
              "</table>\n",
              "</div>"
            ],
            "text/plain": [
              "          headline_text\n",
              "Result                 \n",
              "negative         398194\n",
              "neutral         2301599\n",
              "positive         597379"
            ]
          },
          "metadata": {
            "tags": []
          },
          "execution_count": 70
        }
      ]
    },
    {
      "cell_type": "code",
      "metadata": {
        "id": "GskEXz-CRMEo",
        "outputId": "be794d3c-b58a-4c35-e092-1e238bf1ed2a",
        "colab": {
          "base_uri": "https://localhost:8080/",
          "height": 496
        }
      },
      "source": [
        "plt.figure(figsize=(8,8))\n",
        "final_result['headline_text'].plot.hist(d)\n",
        "plt.show()"
      ],
      "execution_count": 74,
      "outputs": [
        {
          "output_type": "display_data",
          "data": {
            "image/png": "[encoded data removed]",
            "text/plain": [
              "<Figure size 576x576 with 1 Axes>"
            ]
          },
          "metadata": {
            "tags": [],
            "needs_background": "light"
          }
        }
      ]
    },
    {
      "cell_type": "code",
      "metadata": {
        "id": "InVfjs_9RpuS",
        "outputId": "d5f8003d-a1d6-4ccf-aeb2-9c46a85b063b",
        "colab": {
          "base_uri": "https://localhost:8080/",
          "height": 466
        }
      },
      "source": [
        "plt.figure(figsize=(10,8))\n",
        "final_result['headline_text'].plot.pie(autopct='%1.1f%%')\n",
        "plt.show()"
      ],
      "execution_count": 75,
      "outputs": [
        {
          "output_type": "display_data",
          "data": {
            "image/png": "[encoded data removed]",
            "text/plain": [
              "<Figure size 720x576 with 1 Axes>"
            ]
          },
          "metadata": {
            "tags": []
          }
        }
      ]
    },
    {
      "cell_type": "code",
      "metadata": {
        "id": "48q_bBFORyjf"
      },
      "source": [
        "negative = (final_result.loc['negative'] / len(d))*100\n",
        "neutral = (final_result.loc['neutral'] / len(d))*100\n",
        "positive = (final_result.loc['positive'] / len(d))*100"
      ],
      "execution_count": 77,
      "outputs": []
    },
    {
      "cell_type": "code",
      "metadata": {
        "id": "lG7pE2O8R_RE",
        "outputId": "949c3a32-04a6-4ac0-ee98-4395166f95ca",
        "colab": {
          "base_uri": "https://localhost:8080/",
          "height": 187
        }
      },
      "source": [
        "print('Positive : ' , positive )\n",
        "print('\\n\\nNegative : ' ,negative )\n",
        "print('\\n\\nUnbiased : ' , str(neutral))"
      ],
      "execution_count": 78,
      "outputs": [
        {
          "output_type": "stream",
          "text": [
            "Positive :  headline_text    18.11792\n",
            "Name: positive, dtype: float64\n",
            "\n",
            "\n",
            "Negative :  headline_text    12.076834\n",
            "Name: negative, dtype: float64\n",
            "\n",
            "\n",
            "Unbiased :  headline_text    69.805245\n",
            "Name: neutral, dtype: float64\n"
          ],
          "name": "stdout"
        }
      ]
    },
    {
      "cell_type": "markdown",
      "metadata": {
        "id": "Rs1CpjE1SNbE"
      },
      "source": [
        "######################## ***HYBRID MODEL***###########################"
      ]
    },
    {
      "cell_type": "code",
      "metadata": {
        "id": "KnIAb_uKSHTc"
      },
      "source": [
        ""
      ],
      "execution_count": null,
      "outputs": []
    },
    {
      "cell_type": "code",
      "metadata": {
        "id": "5SMog6TRtDsV",
        "outputId": "af1bd503-f610-40d2-f1b3-e5f9fb135ad8",
        "colab": {
          "base_uri": "https://localhost:8080/",
          "height": 34
        }
      },
      "source": [
        "from google.colab import drive\n",
        "drive.mount('/content/drive')"
      ],
      "execution_count": 2,
      "outputs": [
        {
          "output_type": "stream",
          "text": [
            "Drive already mounted at /content/drive; to attempt to forcibly remount, call drive.mount(\"/content/drive\", force_remount=True).\n"
          ],
          "name": "stdout"
        }
      ]
    },
    {
      "cell_type": "code",
      "metadata": {
        "id": "SdIZ99OAuwAS"
      },
      "source": [
        "import pandas as pd\n",
        "csv1=pd.read_csv('/content/drive/My Drive/india-news-headlines.csv')"
      ],
      "execution_count": 3,
      "outputs": []
    },
    {
      "cell_type": "code",
      "metadata": {
        "id": "hrbUjfl_wPdU",
        "outputId": "6a9f1043-eac0-4329-873a-1675d486e7d5",
        "colab": {
          "base_uri": "https://localhost:8080/",
          "height": 255
        }
      },
      "source": [
        "csv1.head"
      ],
      "execution_count": 10,
      "outputs": [
        {
          "output_type": "execute_result",
          "data": {
            "text/plain": [
              "<bound method NDFrame.head of          publish_date  ...                                      headline_text\n",
              "0            20010101  ...  win over cena satisfying but defeating underta...\n",
              "1            20010102  ...  Status quo will not be disturbed at Ayodhya; s...\n",
              "2            20010102  ...                Fissures in Hurriyat over Pak visit\n",
              "3            20010102  ...              America's unwanted heading for India?\n",
              "4            20010102  ...                 For bigwigs; it is destination Goa\n",
              "...               ...  ...                                                ...\n",
              "3297167      20200630  ...      why tiktok removed 1 65 crore videos in india\n",
              "3297168      20200630  ...  apurva asrani calls alia bhatts mother soni ra...\n",
              "3297169      20200630  ...  kangana ranaut gets a doll version of herself ...\n",
              "3297170      20200630  ...  meezaan jaffrey reminisces his childhood days ...\n",
              "3297171      20200630  ...  prabhas20 titled as radhe shyam prabhas and po...\n",
              "\n",
              "[3297172 rows x 3 columns]>"
            ]
          },
          "metadata": {
            "tags": []
          },
          "execution_count": 10
        }
      ]
    },
    {
      "cell_type": "code",
      "metadata": {
        "id": "F7EBqZlkwUAC"
      },
      "source": [
        "csv1.rename(columns={'publish_date':'Date'},inplace=True)"
      ],
      "execution_count": 11,
      "outputs": []
    },
    {
      "cell_type": "code",
      "metadata": {
        "id": "2gLlmKPOwl5d",
        "outputId": "9fd878b1-e0f8-463f-acf3-b8fa41d686f9",
        "colab": {
          "base_uri": "https://localhost:8080/",
          "height": 255
        }
      },
      "source": [
        "csv1.head"
      ],
      "execution_count": 12,
      "outputs": [
        {
          "output_type": "execute_result",
          "data": {
            "text/plain": [
              "<bound method NDFrame.head of              Date  ...                                      headline_text\n",
              "0        20010101  ...  win over cena satisfying but defeating underta...\n",
              "1        20010102  ...  Status quo will not be disturbed at Ayodhya; s...\n",
              "2        20010102  ...                Fissures in Hurriyat over Pak visit\n",
              "3        20010102  ...              America's unwanted heading for India?\n",
              "4        20010102  ...                 For bigwigs; it is destination Goa\n",
              "...           ...  ...                                                ...\n",
              "3297167  20200630  ...      why tiktok removed 1 65 crore videos in india\n",
              "3297168  20200630  ...  apurva asrani calls alia bhatts mother soni ra...\n",
              "3297169  20200630  ...  kangana ranaut gets a doll version of herself ...\n",
              "3297170  20200630  ...  meezaan jaffrey reminisces his childhood days ...\n",
              "3297171  20200630  ...  prabhas20 titled as radhe shyam prabhas and po...\n",
              "\n",
              "[3297172 rows x 3 columns]>"
            ]
          },
          "metadata": {
            "tags": []
          },
          "execution_count": 12
        }
      ]
    },
    {
      "cell_type": "code",
      "metadata": {
        "id": "WBEJXQj_w7Ok"
      },
      "source": [
        "csv1['Date']=pd.to_datetime(csv1.Date,format='%Y%m%d')"
      ],
      "execution_count": 17,
      "outputs": []
    },
    {
      "cell_type": "code",
      "metadata": {
        "id": "EzUT5w2pxrc0",
        "outputId": "be95e286-185d-48a0-dc52-d20a17cb8562",
        "colab": {
          "base_uri": "https://localhost:8080/",
          "height": 85
        }
      },
      "source": [
        "csv1.dtypes"
      ],
      "execution_count": 29,
      "outputs": [
        {
          "output_type": "execute_result",
          "data": {
            "text/plain": [
              "Date                 datetime64[ns]\n",
              "headline_category            object\n",
              "headline_text                object\n",
              "dtype: object"
            ]
          },
          "metadata": {
            "tags": []
          },
          "execution_count": 29
        }
      ]
    },
    {
      "cell_type": "code",
      "metadata": {
        "id": "Sqcf2U-Ux9om",
        "outputId": "1f4c84e6-15bf-4506-ffcd-69fafe84b600",
        "colab": {
          "base_uri": "https://localhost:8080/",
          "height": 255
        }
      },
      "source": [
        "csv1.head"
      ],
      "execution_count": 32,
      "outputs": [
        {
          "output_type": "execute_result",
          "data": {
            "text/plain": [
              "<bound method NDFrame.head of               Date  ...                                      headline_text\n",
              "0       2001-01-01  ...  win over cena satisfying but defeating underta...\n",
              "1       2001-01-02  ...  Status quo will not be disturbed at Ayodhya; s...\n",
              "2       2001-01-02  ...                Fissures in Hurriyat over Pak visit\n",
              "3       2001-01-02  ...              America's unwanted heading for India?\n",
              "4       2001-01-02  ...                 For bigwigs; it is destination Goa\n",
              "...            ...  ...                                                ...\n",
              "3297167 2020-06-30  ...      why tiktok removed 1 65 crore videos in india\n",
              "3297168 2020-06-30  ...  apurva asrani calls alia bhatts mother soni ra...\n",
              "3297169 2020-06-30  ...  kangana ranaut gets a doll version of herself ...\n",
              "3297170 2020-06-30  ...  meezaan jaffrey reminisces his childhood days ...\n",
              "3297171 2020-06-30  ...  prabhas20 titled as radhe shyam prabhas and po...\n",
              "\n",
              "[3297172 rows x 3 columns]>"
            ]
          },
          "metadata": {
            "tags": []
          },
          "execution_count": 32
        }
      ]
    },
    {
      "cell_type": "code",
      "metadata": {
        "id": "sz1OzlvIu5uJ"
      },
      "source": [
        "import pandas as pd\n",
        "csv2=pd.read_csv('/content/drive/My Drive/TTM.csv')"
      ],
      "execution_count": 4,
      "outputs": []
    },
    {
      "cell_type": "code",
      "metadata": {
        "id": "Hs1C0cR10ZNb"
      },
      "source": [
        "csv2['Date'] = pd.to_datetime(csv2.Date, format='%Y-%m-%d')"
      ],
      "execution_count": 38,
      "outputs": []
    },
    {
      "cell_type": "code",
      "metadata": {
        "id": "2opPqpgCwuCy",
        "outputId": "ca61c407-9003-4f27-a1f9-c030d9b18106",
        "colab": {
          "base_uri": "https://localhost:8080/",
          "height": 153
        }
      },
      "source": [
        "csv2.dtypes"
      ],
      "execution_count": 39,
      "outputs": [
        {
          "output_type": "execute_result",
          "data": {
            "text/plain": [
              "Date         datetime64[ns]\n",
              "Open                float64\n",
              "High                float64\n",
              "Low                 float64\n",
              "Close               float64\n",
              "Adj Close           float64\n",
              "Volume                int64\n",
              "dtype: object"
            ]
          },
          "metadata": {
            "tags": []
          },
          "execution_count": 39
        }
      ]
    },
    {
      "cell_type": "code",
      "metadata": {
        "id": "qWN9yd_-u__R"
      },
      "source": [
        "new_data = csv1.merge(csv2,on='Date', left_index=True)"
      ],
      "execution_count": 41,
      "outputs": []
    },
    {
      "cell_type": "code",
      "metadata": {
        "id": "k_p-yETC36wG",
        "outputId": "da978069-112b-4f35-c3c0-b91625667b45",
        "colab": {
          "base_uri": "https://localhost:8080/",
          "height": 204
        }
      },
      "source": [
        "new_data.head()"
      ],
      "execution_count": 43,
      "outputs": [
        {
          "output_type": "execute_result",
          "data": {
            "text/html": [
              "<div>\n",
              "<style scoped>\n",
              "    .dataframe tbody tr th:only-of-type {\n",
              "        vertical-align: middle;\n",
              "    }\n",
              "\n",
              "    .dataframe tbody tr th {\n",
              "        vertical-align: top;\n",
              "    }\n",
              "\n",
              "    .dataframe thead th {\n",
              "        text-align: right;\n",
              "    }\n",
              "</style>\n",
              "<table border=\"1\" class=\"dataframe\">\n",
              "  <thead>\n",
              "    <tr style=\"text-align: right;\">\n",
              "      <th></th>\n",
              "      <th>Date</th>\n",
              "      <th>headline_category</th>\n",
              "      <th>headline_text</th>\n",
              "      <th>Open</th>\n",
              "      <th>High</th>\n",
              "      <th>Low</th>\n",
              "      <th>Close</th>\n",
              "      <th>Adj Close</th>\n",
              "      <th>Volume</th>\n",
              "    </tr>\n",
              "  </thead>\n",
              "  <tbody>\n",
              "    <tr>\n",
              "      <th>0</th>\n",
              "      <td>2019-10-21</td>\n",
              "      <td>india</td>\n",
              "      <td>Haryana; Maharashtra assembly polls: Your guid...</td>\n",
              "      <td>9.6</td>\n",
              "      <td>9.63</td>\n",
              "      <td>9.46</td>\n",
              "      <td>9.51</td>\n",
              "      <td>9.51</td>\n",
              "      <td>1055700</td>\n",
              "    </tr>\n",
              "    <tr>\n",
              "      <th>0</th>\n",
              "      <td>2019-10-21</td>\n",
              "      <td>entertainment.hindi.bollywood</td>\n",
              "      <td>from kalki koechlin to amy jackson and kareena...</td>\n",
              "      <td>9.6</td>\n",
              "      <td>9.63</td>\n",
              "      <td>9.46</td>\n",
              "      <td>9.51</td>\n",
              "      <td>9.51</td>\n",
              "      <td>1055700</td>\n",
              "    </tr>\n",
              "    <tr>\n",
              "      <th>0</th>\n",
              "      <td>2019-10-21</td>\n",
              "      <td>life-style.beauty</td>\n",
              "      <td>Bollywood-inspired hairstyles to try this Diwali</td>\n",
              "      <td>9.6</td>\n",
              "      <td>9.63</td>\n",
              "      <td>9.46</td>\n",
              "      <td>9.51</td>\n",
              "      <td>9.51</td>\n",
              "      <td>1055700</td>\n",
              "    </tr>\n",
              "    <tr>\n",
              "      <th>0</th>\n",
              "      <td>2019-10-21</td>\n",
              "      <td>life-style.health-fitness.weight-loss</td>\n",
              "      <td>Weight loss story: 'I lost 14 kilos because I ...</td>\n",
              "      <td>9.6</td>\n",
              "      <td>9.63</td>\n",
              "      <td>9.46</td>\n",
              "      <td>9.51</td>\n",
              "      <td>9.51</td>\n",
              "      <td>1055700</td>\n",
              "    </tr>\n",
              "    <tr>\n",
              "      <th>0</th>\n",
              "      <td>2019-10-21</td>\n",
              "      <td>entertainment.events.nashik</td>\n",
              "      <td>Cycle wari on the occasion of Navratra held in...</td>\n",
              "      <td>9.6</td>\n",
              "      <td>9.63</td>\n",
              "      <td>9.46</td>\n",
              "      <td>9.51</td>\n",
              "      <td>9.51</td>\n",
              "      <td>1055700</td>\n",
              "    </tr>\n",
              "  </tbody>\n",
              "</table>\n",
              "</div>"
            ],
            "text/plain": [
              "        Date                      headline_category  ... Adj Close   Volume\n",
              "0 2019-10-21                                  india  ...      9.51  1055700\n",
              "0 2019-10-21          entertainment.hindi.bollywood  ...      9.51  1055700\n",
              "0 2019-10-21                      life-style.beauty  ...      9.51  1055700\n",
              "0 2019-10-21  life-style.health-fitness.weight-loss  ...      9.51  1055700\n",
              "0 2019-10-21            entertainment.events.nashik  ...      9.51  1055700\n",
              "\n",
              "[5 rows x 9 columns]"
            ]
          },
          "metadata": {
            "tags": []
          },
          "execution_count": 43
        }
      ]
    },
    {
      "cell_type": "code",
      "metadata": {
        "id": "ABLN32Ef4y8Q"
      },
      "source": [
        "from textblob import TextBlob"
      ],
      "execution_count": 47,
      "outputs": []
    },
    {
      "cell_type": "code",
      "metadata": {
        "id": "JcU1nB7P4Tvv"
      },
      "source": [
        "def analysis_polarity(headline):\n",
        "  \n",
        "    result = TextBlob(headline)\n",
        "    \n",
        "    if result.sentiment.polarity < 0:\n",
        "        return 'negative'\n",
        "    elif result.sentiment.polarity == 0:\n",
        "        return 'neutral'\n",
        "    else:\n",
        "        return 'positive'"
      ],
      "execution_count": 48,
      "outputs": []
    },
    {
      "cell_type": "code",
      "metadata": {
        "id": "fgnG_qoX6c1v"
      },
      "source": [
        ""
      ],
      "execution_count": null,
      "outputs": []
    },
    {
      "cell_type": "code",
      "metadata": {
        "id": "5gM8zR8M4aox"
      },
      "source": [
        "import numpy as np\n",
        "new_data['sentiment'] = np.array([analysis_polarity(headline) for headline in new_data['headline_text']])"
      ],
      "execution_count": 49,
      "outputs": []
    },
    {
      "cell_type": "code",
      "metadata": {
        "id": "Pep7_OTN5Foj",
        "outputId": "729bcc0f-a060-4ffc-eea2-e9ca818cd5bb",
        "colab": {
          "base_uri": "https://localhost:8080/",
          "height": 204
        }
      },
      "source": [
        "new_data.head()"
      ],
      "execution_count": 50,
      "outputs": [
        {
          "output_type": "execute_result",
          "data": {
            "text/html": [
              "<div>\n",
              "<style scoped>\n",
              "    .dataframe tbody tr th:only-of-type {\n",
              "        vertical-align: middle;\n",
              "    }\n",
              "\n",
              "    .dataframe tbody tr th {\n",
              "        vertical-align: top;\n",
              "    }\n",
              "\n",
              "    .dataframe thead th {\n",
              "        text-align: right;\n",
              "    }\n",
              "</style>\n",
              "<table border=\"1\" class=\"dataframe\">\n",
              "  <thead>\n",
              "    <tr style=\"text-align: right;\">\n",
              "      <th></th>\n",
              "      <th>Date</th>\n",
              "      <th>headline_category</th>\n",
              "      <th>headline_text</th>\n",
              "      <th>Open</th>\n",
              "      <th>High</th>\n",
              "      <th>Low</th>\n",
              "      <th>Close</th>\n",
              "      <th>Adj Close</th>\n",
              "      <th>Volume</th>\n",
              "      <th>sentiment</th>\n",
              "    </tr>\n",
              "  </thead>\n",
              "  <tbody>\n",
              "    <tr>\n",
              "      <th>0</th>\n",
              "      <td>2019-10-21</td>\n",
              "      <td>india</td>\n",
              "      <td>Haryana; Maharashtra assembly polls: Your guid...</td>\n",
              "      <td>9.6</td>\n",
              "      <td>9.63</td>\n",
              "      <td>9.46</td>\n",
              "      <td>9.51</td>\n",
              "      <td>9.51</td>\n",
              "      <td>1055700</td>\n",
              "      <td>neutral</td>\n",
              "    </tr>\n",
              "    <tr>\n",
              "      <th>0</th>\n",
              "      <td>2019-10-21</td>\n",
              "      <td>entertainment.hindi.bollywood</td>\n",
              "      <td>from kalki koechlin to amy jackson and kareena...</td>\n",
              "      <td>9.6</td>\n",
              "      <td>9.63</td>\n",
              "      <td>9.46</td>\n",
              "      <td>9.51</td>\n",
              "      <td>9.51</td>\n",
              "      <td>1055700</td>\n",
              "      <td>neutral</td>\n",
              "    </tr>\n",
              "    <tr>\n",
              "      <th>0</th>\n",
              "      <td>2019-10-21</td>\n",
              "      <td>life-style.beauty</td>\n",
              "      <td>Bollywood-inspired hairstyles to try this Diwali</td>\n",
              "      <td>9.6</td>\n",
              "      <td>9.63</td>\n",
              "      <td>9.46</td>\n",
              "      <td>9.51</td>\n",
              "      <td>9.51</td>\n",
              "      <td>1055700</td>\n",
              "      <td>neutral</td>\n",
              "    </tr>\n",
              "    <tr>\n",
              "      <th>0</th>\n",
              "      <td>2019-10-21</td>\n",
              "      <td>life-style.health-fitness.weight-loss</td>\n",
              "      <td>Weight loss story: 'I lost 14 kilos because I ...</td>\n",
              "      <td>9.6</td>\n",
              "      <td>9.63</td>\n",
              "      <td>9.46</td>\n",
              "      <td>9.51</td>\n",
              "      <td>9.51</td>\n",
              "      <td>1055700</td>\n",
              "      <td>neutral</td>\n",
              "    </tr>\n",
              "    <tr>\n",
              "      <th>0</th>\n",
              "      <td>2019-10-21</td>\n",
              "      <td>entertainment.events.nashik</td>\n",
              "      <td>Cycle wari on the occasion of Navratra held in...</td>\n",
              "      <td>9.6</td>\n",
              "      <td>9.63</td>\n",
              "      <td>9.46</td>\n",
              "      <td>9.51</td>\n",
              "      <td>9.51</td>\n",
              "      <td>1055700</td>\n",
              "      <td>neutral</td>\n",
              "    </tr>\n",
              "  </tbody>\n",
              "</table>\n",
              "</div>"
            ],
            "text/plain": [
              "        Date                      headline_category  ...   Volume  sentiment\n",
              "0 2019-10-21                                  india  ...  1055700    neutral\n",
              "0 2019-10-21          entertainment.hindi.bollywood  ...  1055700    neutral\n",
              "0 2019-10-21                      life-style.beauty  ...  1055700    neutral\n",
              "0 2019-10-21  life-style.health-fitness.weight-loss  ...  1055700    neutral\n",
              "0 2019-10-21            entertainment.events.nashik  ...  1055700    neutral\n",
              "\n",
              "[5 rows x 10 columns]"
            ]
          },
          "metadata": {
            "tags": []
          },
          "execution_count": 50
        }
      ]
    },
    {
      "cell_type": "code",
      "metadata": {
        "id": "exGWMGJeAkYJ",
        "outputId": "33040700-6255-479c-c25f-c95cb90a8a0b",
        "colab": {
          "base_uri": "https://localhost:8080/",
          "height": 204
        }
      },
      "source": [
        "new_data.dtypes"
      ],
      "execution_count": 71,
      "outputs": [
        {
          "output_type": "execute_result",
          "data": {
            "text/plain": [
              "Date                 datetime64[ns]\n",
              "headline_category            object\n",
              "headline_text                object\n",
              "Open                        float64\n",
              "High                        float64\n",
              "Low                         float64\n",
              "Close                       float64\n",
              "Adj Close                   float64\n",
              "Volume                        int64\n",
              "sentiment                    object\n",
              "dtype: object"
            ]
          },
          "metadata": {
            "tags": []
          },
          "execution_count": 71
        }
      ]
    },
    {
      "cell_type": "code",
      "metadata": {
        "id": "Dim5FCvWHlxO"
      },
      "source": [
        "from statistics import mean"
      ],
      "execution_count": 75,
      "outputs": []
    },
    {
      "cell_type": "code",
      "metadata": {
        "id": "-3YB9cy2Jmxg"
      },
      "source": [
        "from statistics import mode"
      ],
      "execution_count": 84,
      "outputs": []
    },
    {
      "cell_type": "code",
      "metadata": {
        "id": "D7ZTiSN3IoOK"
      },
      "source": [
        "from fractions import Fraction as fr"
      ],
      "execution_count": 76,
      "outputs": []
    },
    {
      "cell_type": "code",
      "metadata": {
        "id": "0Qhj_vY8IwRe",
        "outputId": "a1c7888a-5ca2-4346-a275-62684e9bf1c8",
        "colab": {
          "base_uri": "https://localhost:8080/",
          "height": 34
        }
      },
      "source": [
        "print(\"Mean of new_data (Close) is % s\" % (mean(new_data['Close'])))"
      ],
      "execution_count": 87,
      "outputs": [
        {
          "output_type": "stream",
          "text": [
            "Mean of new_data (Close) is 8.960199285730639\n"
          ],
          "name": "stdout"
        }
      ]
    },
    {
      "cell_type": "code",
      "metadata": {
        "id": "d74i_l06JQRc",
        "outputId": "69244942-cbf7-4057-953f-c89cbabc4455",
        "colab": {
          "base_uri": "https://localhost:8080/",
          "height": 34
        }
      },
      "source": [
        "print(\"Mean of new_data (sentiment) is % s\" % (mode(new_data['sentiment'])))"
      ],
      "execution_count": 88,
      "outputs": [
        {
          "output_type": "stream",
          "text": [
            "Mean of new_data (sentiment) is neutral\n"
          ],
          "name": "stdout"
        }
      ]
    },
    {
      "cell_type": "code",
      "metadata": {
        "id": "cnSAj8nnJx5b"
      },
      "source": [
        ""
      ],
      "execution_count": null,
      "outputs": []
    },
    {
      "cell_type": "code",
      "metadata": {
        "id": "i_lR3edO6ISH"
      },
      "source": [
        "from sklearn.ensemble import RandomForestClassifier"
      ],
      "execution_count": 54,
      "outputs": []
    },
    {
      "cell_type": "code",
      "metadata": {
        "id": "lKvte_SH8yHe"
      },
      "source": [
        "rf = RandomForestClassifier"
      ],
      "execution_count": 65,
      "outputs": []
    },
    {
      "cell_type": "code",
      "metadata": {
        "id": "UZnSpbdt894K"
      },
      "source": [
        "from sklearn.model_selection import train_test_split"
      ],
      "execution_count": 66,
      "outputs": []
    },
    {
      "cell_type": "code",
      "metadata": {
        "id": "_HbsB7ov-zcu"
      },
      "source": [
        "X = new_data.iloc[:, :-7].values\n",
        "y = new_data.iloc[:, -7].values"
      ],
      "execution_count": 94,
      "outputs": []
    },
    {
      "cell_type": "code",
      "metadata": {
        "id": "eamL51YPLf_Z"
      },
      "source": [
        ""
      ],
      "execution_count": null,
      "outputs": []
    },
    {
      "cell_type": "code",
      "metadata": {
        "id": "uWb1NyBX97xS"
      },
      "source": [
        "X_train,X_test,y_train,y_test=train_test_split(X,y,test_size=0.33,random_state=42)"
      ],
      "execution_count": 68,
      "outputs": []
    },
    {
      "cell_type": "code",
      "metadata": {
        "id": "vpyWdZrM_sSN"
      },
      "source": [
        "classifier = rf(max_depth=2, random_state=0)"
      ],
      "execution_count": 69,
      "outputs": []
    },
    {
      "cell_type": "code",
      "metadata": {
        "id": "pPNw9OvBAS4a",
        "outputId": "05ba68b0-ac7b-41cc-a945-9bff649071a3",
        "colab": {
          "base_uri": "https://localhost:8080/",
          "height": 306
        }
      },
      "source": [
        "classifier.fit(X,y)"
      ],
      "execution_count": 92,
      "outputs": [
        {
          "output_type": "error",
          "ename": "TypeError",
          "evalue": "ignored",
          "traceback": [
            "\u001b[0;31m---------------------------------------------------------------------------\u001b[0m",
            "\u001b[0;31mTypeError\u001b[0m                                 Traceback (most recent call last)",
            "\u001b[0;32m<ipython-input-92-f68331996411>\u001b[0m in \u001b[0;36m<module>\u001b[0;34m()\u001b[0m\n\u001b[0;32m----> 1\u001b[0;31m \u001b[0mclassifier\u001b[0m\u001b[0;34m.\u001b[0m\u001b[0mfit\u001b[0m\u001b[0;34m(\u001b[0m\u001b[0mX\u001b[0m\u001b[0;34m,\u001b[0m\u001b[0my\u001b[0m\u001b[0;34m)\u001b[0m\u001b[0;34m\u001b[0m\u001b[0;34m\u001b[0m\u001b[0m\n\u001b[0m",
            "\u001b[0;32m/usr/local/lib/python3.6/dist-packages/sklearn/ensemble/_forest.py\u001b[0m in \u001b[0;36mfit\u001b[0;34m(self, X, y, sample_weight)\u001b[0m\n\u001b[1;32m    293\u001b[0m         \"\"\"\n\u001b[1;32m    294\u001b[0m         \u001b[0;31m# Validate or convert input data\u001b[0m\u001b[0;34m\u001b[0m\u001b[0;34m\u001b[0m\u001b[0;34m\u001b[0m\u001b[0m\n\u001b[0;32m--> 295\u001b[0;31m         \u001b[0mX\u001b[0m \u001b[0;34m=\u001b[0m \u001b[0mcheck_array\u001b[0m\u001b[0;34m(\u001b[0m\u001b[0mX\u001b[0m\u001b[0;34m,\u001b[0m \u001b[0maccept_sparse\u001b[0m\u001b[0;34m=\u001b[0m\u001b[0;34m\"csc\"\u001b[0m\u001b[0;34m,\u001b[0m \u001b[0mdtype\u001b[0m\u001b[0;34m=\u001b[0m\u001b[0mDTYPE\u001b[0m\u001b[0;34m)\u001b[0m\u001b[0;34m\u001b[0m\u001b[0;34m\u001b[0m\u001b[0m\n\u001b[0m\u001b[1;32m    296\u001b[0m         \u001b[0my\u001b[0m \u001b[0;34m=\u001b[0m \u001b[0mcheck_array\u001b[0m\u001b[0;34m(\u001b[0m\u001b[0my\u001b[0m\u001b[0;34m,\u001b[0m \u001b[0maccept_sparse\u001b[0m\u001b[0;34m=\u001b[0m\u001b[0;34m'csc'\u001b[0m\u001b[0;34m,\u001b[0m \u001b[0mensure_2d\u001b[0m\u001b[0;34m=\u001b[0m\u001b[0;32mFalse\u001b[0m\u001b[0;34m,\u001b[0m \u001b[0mdtype\u001b[0m\u001b[0;34m=\u001b[0m\u001b[0;32mNone\u001b[0m\u001b[0;34m)\u001b[0m\u001b[0;34m\u001b[0m\u001b[0;34m\u001b[0m\u001b[0m\n\u001b[1;32m    297\u001b[0m         \u001b[0;32mif\u001b[0m \u001b[0msample_weight\u001b[0m \u001b[0;32mis\u001b[0m \u001b[0;32mnot\u001b[0m \u001b[0;32mNone\u001b[0m\u001b[0;34m:\u001b[0m\u001b[0;34m\u001b[0m\u001b[0;34m\u001b[0m\u001b[0m\n",
            "\u001b[0;32m/usr/local/lib/python3.6/dist-packages/sklearn/utils/validation.py\u001b[0m in \u001b[0;36mcheck_array\u001b[0;34m(array, accept_sparse, accept_large_sparse, dtype, order, copy, force_all_finite, ensure_2d, allow_nd, ensure_min_samples, ensure_min_features, warn_on_dtype, estimator)\u001b[0m\n\u001b[1;32m    529\u001b[0m                     \u001b[0marray\u001b[0m \u001b[0;34m=\u001b[0m \u001b[0marray\u001b[0m\u001b[0;34m.\u001b[0m\u001b[0mastype\u001b[0m\u001b[0;34m(\u001b[0m\u001b[0mdtype\u001b[0m\u001b[0;34m,\u001b[0m \u001b[0mcasting\u001b[0m\u001b[0;34m=\u001b[0m\u001b[0;34m\"unsafe\"\u001b[0m\u001b[0;34m,\u001b[0m \u001b[0mcopy\u001b[0m\u001b[0;34m=\u001b[0m\u001b[0;32mFalse\u001b[0m\u001b[0;34m)\u001b[0m\u001b[0;34m\u001b[0m\u001b[0;34m\u001b[0m\u001b[0m\n\u001b[1;32m    530\u001b[0m                 \u001b[0;32melse\u001b[0m\u001b[0;34m:\u001b[0m\u001b[0;34m\u001b[0m\u001b[0;34m\u001b[0m\u001b[0m\n\u001b[0;32m--> 531\u001b[0;31m                     \u001b[0marray\u001b[0m \u001b[0;34m=\u001b[0m \u001b[0mnp\u001b[0m\u001b[0;34m.\u001b[0m\u001b[0masarray\u001b[0m\u001b[0;34m(\u001b[0m\u001b[0marray\u001b[0m\u001b[0;34m,\u001b[0m \u001b[0morder\u001b[0m\u001b[0;34m=\u001b[0m\u001b[0morder\u001b[0m\u001b[0;34m,\u001b[0m \u001b[0mdtype\u001b[0m\u001b[0;34m=\u001b[0m\u001b[0mdtype\u001b[0m\u001b[0;34m)\u001b[0m\u001b[0;34m\u001b[0m\u001b[0;34m\u001b[0m\u001b[0m\n\u001b[0m\u001b[1;32m    532\u001b[0m             \u001b[0;32mexcept\u001b[0m \u001b[0mComplexWarning\u001b[0m\u001b[0;34m:\u001b[0m\u001b[0;34m\u001b[0m\u001b[0;34m\u001b[0m\u001b[0m\n\u001b[1;32m    533\u001b[0m                 raise ValueError(\"Complex data not supported\\n\"\n",
            "\u001b[0;32m/usr/local/lib/python3.6/dist-packages/numpy/core/_asarray.py\u001b[0m in \u001b[0;36masarray\u001b[0;34m(a, dtype, order)\u001b[0m\n\u001b[1;32m     83\u001b[0m \u001b[0;34m\u001b[0m\u001b[0m\n\u001b[1;32m     84\u001b[0m     \"\"\"\n\u001b[0;32m---> 85\u001b[0;31m     \u001b[0;32mreturn\u001b[0m \u001b[0marray\u001b[0m\u001b[0;34m(\u001b[0m\u001b[0ma\u001b[0m\u001b[0;34m,\u001b[0m \u001b[0mdtype\u001b[0m\u001b[0;34m,\u001b[0m \u001b[0mcopy\u001b[0m\u001b[0;34m=\u001b[0m\u001b[0;32mFalse\u001b[0m\u001b[0;34m,\u001b[0m \u001b[0morder\u001b[0m\u001b[0;34m=\u001b[0m\u001b[0morder\u001b[0m\u001b[0;34m)\u001b[0m\u001b[0;34m\u001b[0m\u001b[0;34m\u001b[0m\u001b[0m\n\u001b[0m\u001b[1;32m     86\u001b[0m \u001b[0;34m\u001b[0m\u001b[0m\n\u001b[1;32m     87\u001b[0m \u001b[0;34m\u001b[0m\u001b[0m\n",
            "\u001b[0;31mTypeError\u001b[0m: float() argument must be a string or a number, not 'Timestamp'"
          ]
        }
      ]
    }
  ]
}